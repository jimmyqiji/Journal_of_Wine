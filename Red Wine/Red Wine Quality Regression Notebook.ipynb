{
 "cells": [
  {
   "cell_type": "markdown",
   "metadata": {},
   "source": [
    "# Wine Quality Regression\n",
    "A machine learning attempt at predicting wine quality ratings using dataset from the University of Massachusetts"
   ]
  },
  {
   "cell_type": "markdown",
   "metadata": {},
   "source": [
    "# Load Modules"
   ]
  },
  {
   "cell_type": "code",
   "execution_count": 30,
   "metadata": {},
   "outputs": [],
   "source": [
    "import numpy as np # for array operations\n",
    "import pandas as pd # for graphical display of arrays (basically arrays with row and column names)\n",
    "import seaborn as sns # for plotting graphs\n",
    "from matplotlib import pyplot as plt # for customizing graphs\n",
    "%matplotlib inline\n",
    "# IPython Notebook function, just ignore\n",
    "\n",
    "from sklearn.model_selection import train_test_split # split data\n",
    "from sklearn import preprocessing # for scaling\n",
    "from sklearn.pipeline import make_pipeline # for grouping scaler and model into a wrapper called pipeline, goes into GridSearch\n",
    "from sklearn.model_selection import GridSearchCV # for cross-validation, determines best hyperparameters\n",
    "from sklearn.metrics import mean_squared_error, r2_score # performance measures\n",
    "from sklearn.externals import joblib #for saving model"
   ]
  },
  {
   "cell_type": "markdown",
   "metadata": {},
   "source": [
    "Just to suppress the warnings sklearn gives:"
   ]
  },
  {
   "cell_type": "code",
   "execution_count": 31,
   "metadata": {},
   "outputs": [],
   "source": [
    "def warn(*args, **kwargs):\n",
    "    pass\n",
    "import warnings\n",
    "warnings.warn = warn"
   ]
  },
  {
   "cell_type": "markdown",
   "metadata": {},
   "source": [
    "Also, for clarity, make numpy print arrays to 2 decimal places"
   ]
  },
  {
   "cell_type": "code",
   "execution_count": 32,
   "metadata": {},
   "outputs": [],
   "source": [
    "np.set_printoptions(formatter={'float': lambda x: \"{0:0.2f}\".format(x)})"
   ]
  },
  {
   "cell_type": "markdown",
   "metadata": {},
   "source": [
    "# Load Dataset\n",
    "We load the dataset into variable data:"
   ]
  },
  {
   "cell_type": "code",
   "execution_count": 33,
   "metadata": {},
   "outputs": [],
   "source": [
    "# dataset_url = 'http://mlr.cs.umass.edu/ml/machine-learning-databases/wine-quality/winequality-red.csv'\n",
    "dataset_url = './wine-quality-red.csv'\n",
    "data = pd.read_csv(dataset_url, sep = \";\")"
   ]
  },
  {
   "cell_type": "markdown",
   "metadata": {},
   "source": [
    "# Data Preview\n",
    "We'll first try to get familiar with how the dataset is structured"
   ]
  },
  {
   "cell_type": "code",
   "execution_count": 34,
   "metadata": {},
   "outputs": [
    {
     "name": "stdout",
     "output_type": "stream",
     "text": [
      "Data dimensions: (1599, 12)\n",
      "\n",
      "The first entries of the dataset: \n"
     ]
    },
    {
     "data": {
      "text/html": [
       "<div>\n",
       "<style scoped>\n",
       "    .dataframe tbody tr th:only-of-type {\n",
       "        vertical-align: middle;\n",
       "    }\n",
       "\n",
       "    .dataframe tbody tr th {\n",
       "        vertical-align: top;\n",
       "    }\n",
       "\n",
       "    .dataframe thead th {\n",
       "        text-align: right;\n",
       "    }\n",
       "</style>\n",
       "<table border=\"1\" class=\"dataframe\">\n",
       "  <thead>\n",
       "    <tr style=\"text-align: right;\">\n",
       "      <th></th>\n",
       "      <th>fixed acidity</th>\n",
       "      <th>volatile acidity</th>\n",
       "      <th>citric acid</th>\n",
       "      <th>residual sugar</th>\n",
       "      <th>chlorides</th>\n",
       "      <th>free sulfur dioxide</th>\n",
       "      <th>total sulfur dioxide</th>\n",
       "      <th>density</th>\n",
       "      <th>pH</th>\n",
       "      <th>sulphates</th>\n",
       "      <th>alcohol</th>\n",
       "      <th>quality</th>\n",
       "    </tr>\n",
       "  </thead>\n",
       "  <tbody>\n",
       "    <tr>\n",
       "      <th>0</th>\n",
       "      <td>7.4</td>\n",
       "      <td>0.70</td>\n",
       "      <td>0.00</td>\n",
       "      <td>1.9</td>\n",
       "      <td>0.076</td>\n",
       "      <td>11.0</td>\n",
       "      <td>34.0</td>\n",
       "      <td>0.9978</td>\n",
       "      <td>3.51</td>\n",
       "      <td>0.56</td>\n",
       "      <td>9.4</td>\n",
       "      <td>5</td>\n",
       "    </tr>\n",
       "    <tr>\n",
       "      <th>1</th>\n",
       "      <td>7.8</td>\n",
       "      <td>0.88</td>\n",
       "      <td>0.00</td>\n",
       "      <td>2.6</td>\n",
       "      <td>0.098</td>\n",
       "      <td>25.0</td>\n",
       "      <td>67.0</td>\n",
       "      <td>0.9968</td>\n",
       "      <td>3.20</td>\n",
       "      <td>0.68</td>\n",
       "      <td>9.8</td>\n",
       "      <td>5</td>\n",
       "    </tr>\n",
       "    <tr>\n",
       "      <th>2</th>\n",
       "      <td>7.8</td>\n",
       "      <td>0.76</td>\n",
       "      <td>0.04</td>\n",
       "      <td>2.3</td>\n",
       "      <td>0.092</td>\n",
       "      <td>15.0</td>\n",
       "      <td>54.0</td>\n",
       "      <td>0.9970</td>\n",
       "      <td>3.26</td>\n",
       "      <td>0.65</td>\n",
       "      <td>9.8</td>\n",
       "      <td>5</td>\n",
       "    </tr>\n",
       "    <tr>\n",
       "      <th>3</th>\n",
       "      <td>11.2</td>\n",
       "      <td>0.28</td>\n",
       "      <td>0.56</td>\n",
       "      <td>1.9</td>\n",
       "      <td>0.075</td>\n",
       "      <td>17.0</td>\n",
       "      <td>60.0</td>\n",
       "      <td>0.9980</td>\n",
       "      <td>3.16</td>\n",
       "      <td>0.58</td>\n",
       "      <td>9.8</td>\n",
       "      <td>6</td>\n",
       "    </tr>\n",
       "    <tr>\n",
       "      <th>4</th>\n",
       "      <td>7.4</td>\n",
       "      <td>0.70</td>\n",
       "      <td>0.00</td>\n",
       "      <td>1.9</td>\n",
       "      <td>0.076</td>\n",
       "      <td>11.0</td>\n",
       "      <td>34.0</td>\n",
       "      <td>0.9978</td>\n",
       "      <td>3.51</td>\n",
       "      <td>0.56</td>\n",
       "      <td>9.4</td>\n",
       "      <td>5</td>\n",
       "    </tr>\n",
       "  </tbody>\n",
       "</table>\n",
       "</div>"
      ],
      "text/plain": [
       "   fixed acidity  volatile acidity  citric acid  residual sugar  chlorides  \\\n",
       "0            7.4              0.70         0.00             1.9      0.076   \n",
       "1            7.8              0.88         0.00             2.6      0.098   \n",
       "2            7.8              0.76         0.04             2.3      0.092   \n",
       "3           11.2              0.28         0.56             1.9      0.075   \n",
       "4            7.4              0.70         0.00             1.9      0.076   \n",
       "\n",
       "   free sulfur dioxide  total sulfur dioxide  density    pH  sulphates  \\\n",
       "0                 11.0                  34.0   0.9978  3.51       0.56   \n",
       "1                 25.0                  67.0   0.9968  3.20       0.68   \n",
       "2                 15.0                  54.0   0.9970  3.26       0.65   \n",
       "3                 17.0                  60.0   0.9980  3.16       0.58   \n",
       "4                 11.0                  34.0   0.9978  3.51       0.56   \n",
       "\n",
       "   alcohol  quality  \n",
       "0      9.4        5  \n",
       "1      9.8        5  \n",
       "2      9.8        5  \n",
       "3      9.8        6  \n",
       "4      9.4        5  "
      ]
     },
     "execution_count": 34,
     "metadata": {},
     "output_type": "execute_result"
    },
    {
     "name": "stdout",
     "output_type": "stream",
     "text": [
      "\n",
      "Quantitative properties of each feature: \n"
     ]
    },
    {
     "data": {
      "text/html": [
       "<div>\n",
       "<style scoped>\n",
       "    .dataframe tbody tr th:only-of-type {\n",
       "        vertical-align: middle;\n",
       "    }\n",
       "\n",
       "    .dataframe tbody tr th {\n",
       "        vertical-align: top;\n",
       "    }\n",
       "\n",
       "    .dataframe thead th {\n",
       "        text-align: right;\n",
       "    }\n",
       "</style>\n",
       "<table border=\"1\" class=\"dataframe\">\n",
       "  <thead>\n",
       "    <tr style=\"text-align: right;\">\n",
       "      <th></th>\n",
       "      <th>fixed acidity</th>\n",
       "      <th>volatile acidity</th>\n",
       "      <th>citric acid</th>\n",
       "      <th>residual sugar</th>\n",
       "      <th>chlorides</th>\n",
       "      <th>free sulfur dioxide</th>\n",
       "      <th>total sulfur dioxide</th>\n",
       "      <th>density</th>\n",
       "      <th>pH</th>\n",
       "      <th>sulphates</th>\n",
       "      <th>alcohol</th>\n",
       "      <th>quality</th>\n",
       "    </tr>\n",
       "  </thead>\n",
       "  <tbody>\n",
       "    <tr>\n",
       "      <th>count</th>\n",
       "      <td>1599.000000</td>\n",
       "      <td>1599.000000</td>\n",
       "      <td>1599.000000</td>\n",
       "      <td>1599.000000</td>\n",
       "      <td>1599.000000</td>\n",
       "      <td>1599.000000</td>\n",
       "      <td>1599.000000</td>\n",
       "      <td>1599.000000</td>\n",
       "      <td>1599.000000</td>\n",
       "      <td>1599.000000</td>\n",
       "      <td>1599.000000</td>\n",
       "      <td>1599.000000</td>\n",
       "    </tr>\n",
       "    <tr>\n",
       "      <th>mean</th>\n",
       "      <td>8.319637</td>\n",
       "      <td>0.527821</td>\n",
       "      <td>0.270976</td>\n",
       "      <td>2.538806</td>\n",
       "      <td>0.087467</td>\n",
       "      <td>15.874922</td>\n",
       "      <td>46.467792</td>\n",
       "      <td>0.996747</td>\n",
       "      <td>3.311113</td>\n",
       "      <td>0.658149</td>\n",
       "      <td>10.422983</td>\n",
       "      <td>5.636023</td>\n",
       "    </tr>\n",
       "    <tr>\n",
       "      <th>std</th>\n",
       "      <td>1.741096</td>\n",
       "      <td>0.179060</td>\n",
       "      <td>0.194801</td>\n",
       "      <td>1.409928</td>\n",
       "      <td>0.047065</td>\n",
       "      <td>10.460157</td>\n",
       "      <td>32.895324</td>\n",
       "      <td>0.001887</td>\n",
       "      <td>0.154386</td>\n",
       "      <td>0.169507</td>\n",
       "      <td>1.065668</td>\n",
       "      <td>0.807569</td>\n",
       "    </tr>\n",
       "    <tr>\n",
       "      <th>min</th>\n",
       "      <td>4.600000</td>\n",
       "      <td>0.120000</td>\n",
       "      <td>0.000000</td>\n",
       "      <td>0.900000</td>\n",
       "      <td>0.012000</td>\n",
       "      <td>1.000000</td>\n",
       "      <td>6.000000</td>\n",
       "      <td>0.990070</td>\n",
       "      <td>2.740000</td>\n",
       "      <td>0.330000</td>\n",
       "      <td>8.400000</td>\n",
       "      <td>3.000000</td>\n",
       "    </tr>\n",
       "    <tr>\n",
       "      <th>25%</th>\n",
       "      <td>7.100000</td>\n",
       "      <td>0.390000</td>\n",
       "      <td>0.090000</td>\n",
       "      <td>1.900000</td>\n",
       "      <td>0.070000</td>\n",
       "      <td>7.000000</td>\n",
       "      <td>22.000000</td>\n",
       "      <td>0.995600</td>\n",
       "      <td>3.210000</td>\n",
       "      <td>0.550000</td>\n",
       "      <td>9.500000</td>\n",
       "      <td>5.000000</td>\n",
       "    </tr>\n",
       "    <tr>\n",
       "      <th>50%</th>\n",
       "      <td>7.900000</td>\n",
       "      <td>0.520000</td>\n",
       "      <td>0.260000</td>\n",
       "      <td>2.200000</td>\n",
       "      <td>0.079000</td>\n",
       "      <td>14.000000</td>\n",
       "      <td>38.000000</td>\n",
       "      <td>0.996750</td>\n",
       "      <td>3.310000</td>\n",
       "      <td>0.620000</td>\n",
       "      <td>10.200000</td>\n",
       "      <td>6.000000</td>\n",
       "    </tr>\n",
       "    <tr>\n",
       "      <th>75%</th>\n",
       "      <td>9.200000</td>\n",
       "      <td>0.640000</td>\n",
       "      <td>0.420000</td>\n",
       "      <td>2.600000</td>\n",
       "      <td>0.090000</td>\n",
       "      <td>21.000000</td>\n",
       "      <td>62.000000</td>\n",
       "      <td>0.997835</td>\n",
       "      <td>3.400000</td>\n",
       "      <td>0.730000</td>\n",
       "      <td>11.100000</td>\n",
       "      <td>6.000000</td>\n",
       "    </tr>\n",
       "    <tr>\n",
       "      <th>max</th>\n",
       "      <td>15.900000</td>\n",
       "      <td>1.580000</td>\n",
       "      <td>1.000000</td>\n",
       "      <td>15.500000</td>\n",
       "      <td>0.611000</td>\n",
       "      <td>72.000000</td>\n",
       "      <td>289.000000</td>\n",
       "      <td>1.003690</td>\n",
       "      <td>4.010000</td>\n",
       "      <td>2.000000</td>\n",
       "      <td>14.900000</td>\n",
       "      <td>8.000000</td>\n",
       "    </tr>\n",
       "  </tbody>\n",
       "</table>\n",
       "</div>"
      ],
      "text/plain": [
       "       fixed acidity  volatile acidity  citric acid  residual sugar  \\\n",
       "count    1599.000000       1599.000000  1599.000000     1599.000000   \n",
       "mean        8.319637          0.527821     0.270976        2.538806   \n",
       "std         1.741096          0.179060     0.194801        1.409928   \n",
       "min         4.600000          0.120000     0.000000        0.900000   \n",
       "25%         7.100000          0.390000     0.090000        1.900000   \n",
       "50%         7.900000          0.520000     0.260000        2.200000   \n",
       "75%         9.200000          0.640000     0.420000        2.600000   \n",
       "max        15.900000          1.580000     1.000000       15.500000   \n",
       "\n",
       "         chlorides  free sulfur dioxide  total sulfur dioxide      density  \\\n",
       "count  1599.000000          1599.000000           1599.000000  1599.000000   \n",
       "mean      0.087467            15.874922             46.467792     0.996747   \n",
       "std       0.047065            10.460157             32.895324     0.001887   \n",
       "min       0.012000             1.000000              6.000000     0.990070   \n",
       "25%       0.070000             7.000000             22.000000     0.995600   \n",
       "50%       0.079000            14.000000             38.000000     0.996750   \n",
       "75%       0.090000            21.000000             62.000000     0.997835   \n",
       "max       0.611000            72.000000            289.000000     1.003690   \n",
       "\n",
       "                pH    sulphates      alcohol      quality  \n",
       "count  1599.000000  1599.000000  1599.000000  1599.000000  \n",
       "mean      3.311113     0.658149    10.422983     5.636023  \n",
       "std       0.154386     0.169507     1.065668     0.807569  \n",
       "min       2.740000     0.330000     8.400000     3.000000  \n",
       "25%       3.210000     0.550000     9.500000     5.000000  \n",
       "50%       3.310000     0.620000    10.200000     6.000000  \n",
       "75%       3.400000     0.730000    11.100000     6.000000  \n",
       "max       4.010000     2.000000    14.900000     8.000000  "
      ]
     },
     "execution_count": 34,
     "metadata": {},
     "output_type": "execute_result"
    }
   ],
   "source": [
    "print(\"Data dimensions: \"+ str(data.shape) +\"\\n\")\n",
    "\n",
    "print(\"The first entries of the dataset: \")\n",
    "data.head()\n",
    "\n",
    "print(\"\\nQuantitative properties of each feature: \")\n",
    "data.describe()"
   ]
  },
  {
   "cell_type": "markdown",
   "metadata": {},
   "source": [
    "We see that the magnitudes of the features are drastically different, later we'll have to standardize the features before we perform any sort of optimization\n",
    "\n",
    "\n",
    "# Feature Selection\n",
    "Notice that the Quality column of data is the desired value that we wish to predict. So we split data into X (the features) and y (Quality). \n",
    "\n",
    "As we're trying to predict the value of y, it's only natural that we'd want to get to know y better "
   ]
  },
  {
   "cell_type": "code",
   "execution_count": 35,
   "metadata": {
    "scrolled": true
   },
   "outputs": [
    {
     "data": {
      "image/png": "[encoded data removed]",
      "text/plain": [
       "<matplotlib.figure.Figure at 0x96271159b0>"
      ]
     },
     "metadata": {},
     "output_type": "display_data"
    }
   ],
   "source": [
    "y = data['quality']\n",
    "X = data.drop(['quality'], axis = 1)\n",
    "\n",
    "sns.countplot(y, palette = sns.cubehelix_palette(8)).set_title('Count by Quality');"
   ]
  },
  {
   "cell_type": "markdown",
   "metadata": {},
   "source": [
    "Quality has a distribution that is approximately normal, however, due to the few data collected for quality below 3 and above 8, it may be hard to predict those values. When we train the model later, we'll remember to use different weights for the classes inversely proportional to their frequency.\n",
    "\n",
    "Now, we split the data into our test-set and training-set using train_test_split from from sklearn.model_selection"
   ]
  },
  {
   "cell_type": "code",
   "execution_count": 36,
   "metadata": {},
   "outputs": [
    {
     "name": "stdout",
     "output_type": "stream",
     "text": [
      "X_train dimensions:  (1279, 11)\n",
      "X_test dimensions:  (320, 11)\n",
      "Test set proportion: 0.20\n",
      "\n",
      "X_train: \n"
     ]
    },
    {
     "data": {
      "text/html": [
       "<div>\n",
       "<style scoped>\n",
       "    .dataframe tbody tr th:only-of-type {\n",
       "        vertical-align: middle;\n",
       "    }\n",
       "\n",
       "    .dataframe tbody tr th {\n",
       "        vertical-align: top;\n",
       "    }\n",
       "\n",
       "    .dataframe thead th {\n",
       "        text-align: right;\n",
       "    }\n",
       "</style>\n",
       "<table border=\"1\" class=\"dataframe\">\n",
       "  <thead>\n",
       "    <tr style=\"text-align: right;\">\n",
       "      <th></th>\n",
       "      <th>fixed acidity</th>\n",
       "      <th>volatile acidity</th>\n",
       "      <th>citric acid</th>\n",
       "      <th>residual sugar</th>\n",
       "      <th>chlorides</th>\n",
       "      <th>free sulfur dioxide</th>\n",
       "      <th>total sulfur dioxide</th>\n",
       "      <th>density</th>\n",
       "      <th>pH</th>\n",
       "      <th>sulphates</th>\n",
       "      <th>alcohol</th>\n",
       "    </tr>\n",
       "  </thead>\n",
       "  <tbody>\n",
       "    <tr>\n",
       "      <th>797</th>\n",
       "      <td>9.3</td>\n",
       "      <td>0.37</td>\n",
       "      <td>0.44</td>\n",
       "      <td>1.6</td>\n",
       "      <td>0.038</td>\n",
       "      <td>21.0</td>\n",
       "      <td>42.0</td>\n",
       "      <td>0.99526</td>\n",
       "      <td>3.24</td>\n",
       "      <td>0.81</td>\n",
       "      <td>10.8</td>\n",
       "    </tr>\n",
       "    <tr>\n",
       "      <th>1386</th>\n",
       "      <td>7.4</td>\n",
       "      <td>0.64</td>\n",
       "      <td>0.07</td>\n",
       "      <td>1.8</td>\n",
       "      <td>0.100</td>\n",
       "      <td>8.0</td>\n",
       "      <td>23.0</td>\n",
       "      <td>0.99610</td>\n",
       "      <td>3.30</td>\n",
       "      <td>0.58</td>\n",
       "      <td>9.6</td>\n",
       "    </tr>\n",
       "    <tr>\n",
       "      <th>40</th>\n",
       "      <td>7.3</td>\n",
       "      <td>0.45</td>\n",
       "      <td>0.36</td>\n",
       "      <td>5.9</td>\n",
       "      <td>0.074</td>\n",
       "      <td>12.0</td>\n",
       "      <td>87.0</td>\n",
       "      <td>0.99780</td>\n",
       "      <td>3.33</td>\n",
       "      <td>0.83</td>\n",
       "      <td>10.5</td>\n",
       "    </tr>\n",
       "    <tr>\n",
       "      <th>433</th>\n",
       "      <td>12.3</td>\n",
       "      <td>0.39</td>\n",
       "      <td>0.63</td>\n",
       "      <td>2.3</td>\n",
       "      <td>0.091</td>\n",
       "      <td>6.0</td>\n",
       "      <td>18.0</td>\n",
       "      <td>1.00040</td>\n",
       "      <td>3.16</td>\n",
       "      <td>0.49</td>\n",
       "      <td>9.5</td>\n",
       "    </tr>\n",
       "    <tr>\n",
       "      <th>874</th>\n",
       "      <td>10.4</td>\n",
       "      <td>0.38</td>\n",
       "      <td>0.46</td>\n",
       "      <td>2.1</td>\n",
       "      <td>0.104</td>\n",
       "      <td>6.0</td>\n",
       "      <td>10.0</td>\n",
       "      <td>0.99664</td>\n",
       "      <td>3.12</td>\n",
       "      <td>0.65</td>\n",
       "      <td>11.8</td>\n",
       "    </tr>\n",
       "  </tbody>\n",
       "</table>\n",
       "</div>"
      ],
      "text/plain": [
       "      fixed acidity  volatile acidity  citric acid  residual sugar  chlorides  \\\n",
       "797             9.3              0.37         0.44             1.6      0.038   \n",
       "1386            7.4              0.64         0.07             1.8      0.100   \n",
       "40              7.3              0.45         0.36             5.9      0.074   \n",
       "433            12.3              0.39         0.63             2.3      0.091   \n",
       "874            10.4              0.38         0.46             2.1      0.104   \n",
       "\n",
       "      free sulfur dioxide  total sulfur dioxide  density    pH  sulphates  \\\n",
       "797                  21.0                  42.0  0.99526  3.24       0.81   \n",
       "1386                  8.0                  23.0  0.99610  3.30       0.58   \n",
       "40                   12.0                  87.0  0.99780  3.33       0.83   \n",
       "433                   6.0                  18.0  1.00040  3.16       0.49   \n",
       "874                   6.0                  10.0  0.99664  3.12       0.65   \n",
       "\n",
       "      alcohol  \n",
       "797      10.8  \n",
       "1386      9.6  \n",
       "40       10.5  \n",
       "433       9.5  \n",
       "874      11.8  "
      ]
     },
     "execution_count": 36,
     "metadata": {},
     "output_type": "execute_result"
    },
    {
     "data": {
      "text/html": [
       "<div>\n",
       "<style scoped>\n",
       "    .dataframe tbody tr th:only-of-type {\n",
       "        vertical-align: middle;\n",
       "    }\n",
       "\n",
       "    .dataframe tbody tr th {\n",
       "        vertical-align: top;\n",
       "    }\n",
       "\n",
       "    .dataframe thead th {\n",
       "        text-align: right;\n",
       "    }\n",
       "</style>\n",
       "<table border=\"1\" class=\"dataframe\">\n",
       "  <thead>\n",
       "    <tr style=\"text-align: right;\">\n",
       "      <th></th>\n",
       "      <th>quality</th>\n",
       "    </tr>\n",
       "  </thead>\n",
       "  <tbody>\n",
       "    <tr>\n",
       "      <th>797</th>\n",
       "      <td>7</td>\n",
       "    </tr>\n",
       "    <tr>\n",
       "      <th>1386</th>\n",
       "      <td>5</td>\n",
       "    </tr>\n",
       "    <tr>\n",
       "      <th>40</th>\n",
       "      <td>5</td>\n",
       "    </tr>\n",
       "    <tr>\n",
       "      <th>433</th>\n",
       "      <td>5</td>\n",
       "    </tr>\n",
       "    <tr>\n",
       "      <th>874</th>\n",
       "      <td>7</td>\n",
       "    </tr>\n",
       "  </tbody>\n",
       "</table>\n",
       "</div>"
      ],
      "text/plain": [
       "      quality\n",
       "797         7\n",
       "1386        5\n",
       "40          5\n",
       "433         5\n",
       "874         7"
      ]
     },
     "execution_count": 36,
     "metadata": {},
     "output_type": "execute_result"
    }
   ],
   "source": [
    "train_data, test_data = train_test_split(data, test_size = 0.2, random_state = 817, stratify = y)\n",
    "X_train = train_data.drop(['quality'], axis = 1)\n",
    "X_test = test_data.drop(['quality'], axis = 1)\n",
    "y_train = train_data['quality']\n",
    "y_test = test_data['quality']\n",
    "\n",
    "print(\"X_train dimensions: \", X_train.shape)\n",
    "print(\"X_test dimensions: \", X_test.shape)\n",
    "print(\"Test set proportion: %.2f\" % (X_test.shape[0]/(X_test.shape[0] + X_train.shape[0])))\n",
    "print(\"\\nX_train: \")\n",
    "X_train.head()\n",
    "\n",
    "df_y_train = pd.DataFrame(y_train, columns=['quality'])\n",
    "df_y_train.head()"
   ]
  },
  {
   "cell_type": "markdown",
   "metadata": {},
   "source": [
    "# Standardization\n",
    "\n",
    "To allow convienient graphing, we will now standardize our dataset"
   ]
  },
  {
   "cell_type": "code",
   "execution_count": 37,
   "metadata": {},
   "outputs": [
    {
     "name": "stdout",
     "output_type": "stream",
     "text": [
      "\n",
      "Training set stats (note that mean is around 0 and std around 1) :\n"
     ]
    },
    {
     "data": {
      "text/html": [
       "<div>\n",
       "<style scoped>\n",
       "    .dataframe tbody tr th:only-of-type {\n",
       "        vertical-align: middle;\n",
       "    }\n",
       "\n",
       "    .dataframe tbody tr th {\n",
       "        vertical-align: top;\n",
       "    }\n",
       "\n",
       "    .dataframe thead th {\n",
       "        text-align: right;\n",
       "    }\n",
       "</style>\n",
       "<table border=\"1\" class=\"dataframe\">\n",
       "  <thead>\n",
       "    <tr style=\"text-align: right;\">\n",
       "      <th></th>\n",
       "      <th>fixed acidity</th>\n",
       "      <th>volatile acidity</th>\n",
       "      <th>citric acid</th>\n",
       "      <th>residual sugar</th>\n",
       "      <th>chlorides</th>\n",
       "      <th>free sulfur dioxide</th>\n",
       "      <th>total sulfur dioxide</th>\n",
       "      <th>density</th>\n",
       "      <th>pH</th>\n",
       "      <th>sulphates</th>\n",
       "      <th>alcohol</th>\n",
       "    </tr>\n",
       "  </thead>\n",
       "  <tbody>\n",
       "    <tr>\n",
       "      <th>count</th>\n",
       "      <td>1.279000e+03</td>\n",
       "      <td>1.279000e+03</td>\n",
       "      <td>1.279000e+03</td>\n",
       "      <td>1.279000e+03</td>\n",
       "      <td>1.279000e+03</td>\n",
       "      <td>1.279000e+03</td>\n",
       "      <td>1.279000e+03</td>\n",
       "      <td>1.279000e+03</td>\n",
       "      <td>1.279000e+03</td>\n",
       "      <td>1.279000e+03</td>\n",
       "      <td>1.279000e+03</td>\n",
       "    </tr>\n",
       "    <tr>\n",
       "      <th>mean</th>\n",
       "      <td>5.874894e-16</td>\n",
       "      <td>2.178780e-16</td>\n",
       "      <td>1.197895e-17</td>\n",
       "      <td>-3.023003e-16</td>\n",
       "      <td>1.555093e-16</td>\n",
       "      <td>-1.170118e-16</td>\n",
       "      <td>6.341031e-17</td>\n",
       "      <td>3.557037e-14</td>\n",
       "      <td>4.408601e-15</td>\n",
       "      <td>-2.130170e-16</td>\n",
       "      <td>7.446914e-16</td>\n",
       "    </tr>\n",
       "    <tr>\n",
       "      <th>std</th>\n",
       "      <td>1.000391e+00</td>\n",
       "      <td>1.000391e+00</td>\n",
       "      <td>1.000391e+00</td>\n",
       "      <td>1.000391e+00</td>\n",
       "      <td>1.000391e+00</td>\n",
       "      <td>1.000391e+00</td>\n",
       "      <td>1.000391e+00</td>\n",
       "      <td>1.000391e+00</td>\n",
       "      <td>1.000391e+00</td>\n",
       "      <td>1.000391e+00</td>\n",
       "      <td>1.000391e+00</td>\n",
       "    </tr>\n",
       "    <tr>\n",
       "      <th>min</th>\n",
       "      <td>-2.126191e+00</td>\n",
       "      <td>-2.289244e+00</td>\n",
       "      <td>-1.398924e+00</td>\n",
       "      <td>-1.136506e+00</td>\n",
       "      <td>-1.576773e+00</td>\n",
       "      <td>-1.426875e+00</td>\n",
       "      <td>-1.217252e+00</td>\n",
       "      <td>-3.471959e+00</td>\n",
       "      <td>-3.639059e+00</td>\n",
       "      <td>-1.955538e+00</td>\n",
       "      <td>-1.910806e+00</td>\n",
       "    </tr>\n",
       "    <tr>\n",
       "      <th>25%</th>\n",
       "      <td>-6.958022e-01</td>\n",
       "      <td>-7.763849e-01</td>\n",
       "      <td>-9.363400e-01</td>\n",
       "      <td>-4.468813e-01</td>\n",
       "      <td>-3.629695e-01</td>\n",
       "      <td>-8.516878e-01</td>\n",
       "      <td>-7.444271e-01</td>\n",
       "      <td>-5.872507e-01</td>\n",
       "      <td>-6.393366e-01</td>\n",
       "      <td>-6.418863e-01</td>\n",
       "      <td>-8.793918e-01</td>\n",
       "    </tr>\n",
       "    <tr>\n",
       "      <th>50%</th>\n",
       "      <td>-2.380776e-01</td>\n",
       "      <td>-4.797096e-02</td>\n",
       "      <td>-6.257001e-02</td>\n",
       "      <td>-2.399938e-01</td>\n",
       "      <td>-1.746207e-01</td>\n",
       "      <td>-1.806361e-01</td>\n",
       "      <td>-2.716019e-01</td>\n",
       "      <td>-1.343884e-02</td>\n",
       "      <td>-6.492170e-02</td>\n",
       "      <td>-2.239062e-01</td>\n",
       "      <td>-2.230370e-01</td>\n",
       "    </tr>\n",
       "    <tr>\n",
       "      <th>75%</th>\n",
       "      <td>5.629404e-01</td>\n",
       "      <td>6.244111e-01</td>\n",
       "      <td>7.598017e-01</td>\n",
       "      <td>3.585619e-02</td>\n",
       "      <td>5.558344e-02</td>\n",
       "      <td>4.904157e-01</td>\n",
       "      <td>4.671876e-01</td>\n",
       "      <td>5.760224e-01</td>\n",
       "      <td>5.733170e-01</td>\n",
       "      <td>4.329196e-01</td>\n",
       "      <td>6.208478e-01</td>\n",
       "    </tr>\n",
       "    <tr>\n",
       "      <th>max</th>\n",
       "      <td>4.339168e+00</td>\n",
       "      <td>5.891404e+00</td>\n",
       "      <td>3.740899e+00</td>\n",
       "      <td>8.932019e+00</td>\n",
       "      <td>1.095889e+01</td>\n",
       "      <td>5.379507e+00</td>\n",
       "      <td>7.145844e+00</td>\n",
       "      <td>3.632875e+00</td>\n",
       "      <td>4.466573e+00</td>\n",
       "      <td>8.016272e+00</td>\n",
       "      <td>4.183917e+00</td>\n",
       "    </tr>\n",
       "  </tbody>\n",
       "</table>\n",
       "</div>"
      ],
      "text/plain": [
       "       fixed acidity  volatile acidity   citric acid  residual sugar  \\\n",
       "count   1.279000e+03      1.279000e+03  1.279000e+03    1.279000e+03   \n",
       "mean    5.874894e-16      2.178780e-16  1.197895e-17   -3.023003e-16   \n",
       "std     1.000391e+00      1.000391e+00  1.000391e+00    1.000391e+00   \n",
       "min    -2.126191e+00     -2.289244e+00 -1.398924e+00   -1.136506e+00   \n",
       "25%    -6.958022e-01     -7.763849e-01 -9.363400e-01   -4.468813e-01   \n",
       "50%    -2.380776e-01     -4.797096e-02 -6.257001e-02   -2.399938e-01   \n",
       "75%     5.629404e-01      6.244111e-01  7.598017e-01    3.585619e-02   \n",
       "max     4.339168e+00      5.891404e+00  3.740899e+00    8.932019e+00   \n",
       "\n",
       "          chlorides  free sulfur dioxide  total sulfur dioxide       density  \\\n",
       "count  1.279000e+03         1.279000e+03          1.279000e+03  1.279000e+03   \n",
       "mean   1.555093e-16        -1.170118e-16          6.341031e-17  3.557037e-14   \n",
       "std    1.000391e+00         1.000391e+00          1.000391e+00  1.000391e+00   \n",
       "min   -1.576773e+00        -1.426875e+00         -1.217252e+00 -3.471959e+00   \n",
       "25%   -3.629695e-01        -8.516878e-01         -7.444271e-01 -5.872507e-01   \n",
       "50%   -1.746207e-01        -1.806361e-01         -2.716019e-01 -1.343884e-02   \n",
       "75%    5.558344e-02         4.904157e-01          4.671876e-01  5.760224e-01   \n",
       "max    1.095889e+01         5.379507e+00          7.145844e+00  3.632875e+00   \n",
       "\n",
       "                 pH     sulphates       alcohol  \n",
       "count  1.279000e+03  1.279000e+03  1.279000e+03  \n",
       "mean   4.408601e-15 -2.130170e-16  7.446914e-16  \n",
       "std    1.000391e+00  1.000391e+00  1.000391e+00  \n",
       "min   -3.639059e+00 -1.955538e+00 -1.910806e+00  \n",
       "25%   -6.393366e-01 -6.418863e-01 -8.793918e-01  \n",
       "50%   -6.492170e-02 -2.239062e-01 -2.230370e-01  \n",
       "75%    5.733170e-01  4.329196e-01  6.208478e-01  \n",
       "max    4.466573e+00  8.016272e+00  4.183917e+00  "
      ]
     },
     "execution_count": 37,
     "metadata": {},
     "output_type": "execute_result"
    },
    {
     "name": "stdout",
     "output_type": "stream",
     "text": [
      "\n",
      "Test set stats (note the deviation of mean from 0 and std from 1): \n"
     ]
    },
    {
     "data": {
      "text/html": [
       "<div>\n",
       "<style scoped>\n",
       "    .dataframe tbody tr th:only-of-type {\n",
       "        vertical-align: middle;\n",
       "    }\n",
       "\n",
       "    .dataframe tbody tr th {\n",
       "        vertical-align: top;\n",
       "    }\n",
       "\n",
       "    .dataframe thead th {\n",
       "        text-align: right;\n",
       "    }\n",
       "</style>\n",
       "<table border=\"1\" class=\"dataframe\">\n",
       "  <thead>\n",
       "    <tr style=\"text-align: right;\">\n",
       "      <th></th>\n",
       "      <th>fixed acidity</th>\n",
       "      <th>volatile acidity</th>\n",
       "      <th>citric acid</th>\n",
       "      <th>residual sugar</th>\n",
       "      <th>chlorides</th>\n",
       "      <th>free sulfur dioxide</th>\n",
       "      <th>total sulfur dioxide</th>\n",
       "      <th>density</th>\n",
       "      <th>pH</th>\n",
       "      <th>sulphates</th>\n",
       "      <th>alcohol</th>\n",
       "    </tr>\n",
       "  </thead>\n",
       "  <tbody>\n",
       "    <tr>\n",
       "      <th>count</th>\n",
       "      <td>320.000000</td>\n",
       "      <td>320.000000</td>\n",
       "      <td>320.000000</td>\n",
       "      <td>320.000000</td>\n",
       "      <td>320.000000</td>\n",
       "      <td>320.000000</td>\n",
       "      <td>320.000000</td>\n",
       "      <td>320.000000</td>\n",
       "      <td>320.000000</td>\n",
       "      <td>320.000000</td>\n",
       "      <td>320.000000</td>\n",
       "    </tr>\n",
       "    <tr>\n",
       "      <th>mean</th>\n",
       "      <td>0.010095</td>\n",
       "      <td>-0.020743</td>\n",
       "      <td>-0.030767</td>\n",
       "      <td>-0.031706</td>\n",
       "      <td>0.012813</td>\n",
       "      <td>-0.004485</td>\n",
       "      <td>-0.106759</td>\n",
       "      <td>0.054522</td>\n",
       "      <td>0.030016</td>\n",
       "      <td>0.019418</td>\n",
       "      <td>-0.069741</td>\n",
       "    </tr>\n",
       "    <tr>\n",
       "      <th>std</th>\n",
       "      <td>0.980664</td>\n",
       "      <td>1.016276</td>\n",
       "      <td>1.005836</td>\n",
       "      <td>0.851896</td>\n",
       "      <td>0.922160</td>\n",
       "      <td>1.013733</td>\n",
       "      <td>0.845762</td>\n",
       "      <td>0.918557</td>\n",
       "      <td>0.923915</td>\n",
       "      <td>1.059326</td>\n",
       "      <td>0.994140</td>\n",
       "    </tr>\n",
       "    <tr>\n",
       "      <th>min</th>\n",
       "      <td>-1.897329</td>\n",
       "      <td>-2.065117</td>\n",
       "      <td>-1.398924</td>\n",
       "      <td>-0.929619</td>\n",
       "      <td>-1.011727</td>\n",
       "      <td>-1.235146</td>\n",
       "      <td>-1.217252</td>\n",
       "      <td>-2.689489</td>\n",
       "      <td>-2.745524</td>\n",
       "      <td>-1.597269</td>\n",
       "      <td>-1.348217</td>\n",
       "    </tr>\n",
       "    <tr>\n",
       "      <th>25%</th>\n",
       "      <td>-0.638587</td>\n",
       "      <td>-0.776385</td>\n",
       "      <td>-0.897791</td>\n",
       "      <td>-0.446881</td>\n",
       "      <td>-0.342042</td>\n",
       "      <td>-0.755823</td>\n",
       "      <td>-0.744427</td>\n",
       "      <td>-0.524653</td>\n",
       "      <td>-0.575513</td>\n",
       "      <td>-0.701598</td>\n",
       "      <td>-0.879392</td>\n",
       "    </tr>\n",
       "    <tr>\n",
       "      <th>50%</th>\n",
       "      <td>-0.238078</td>\n",
       "      <td>-0.104003</td>\n",
       "      <td>-0.165366</td>\n",
       "      <td>-0.239994</td>\n",
       "      <td>-0.153693</td>\n",
       "      <td>-0.276501</td>\n",
       "      <td>-0.330705</td>\n",
       "      <td>0.090891</td>\n",
       "      <td>0.062726</td>\n",
       "      <td>-0.283618</td>\n",
       "      <td>-0.363684</td>\n",
       "    </tr>\n",
       "    <tr>\n",
       "      <th>75%</th>\n",
       "      <td>0.448509</td>\n",
       "      <td>0.624411</td>\n",
       "      <td>0.811200</td>\n",
       "      <td>0.035856</td>\n",
       "      <td>0.060815</td>\n",
       "      <td>0.490416</td>\n",
       "      <td>0.297266</td>\n",
       "      <td>0.591672</td>\n",
       "      <td>0.589273</td>\n",
       "      <td>0.492631</td>\n",
       "      <td>0.527083</td>\n",
       "    </tr>\n",
       "    <tr>\n",
       "      <th>max</th>\n",
       "      <td>3.824228</td>\n",
       "      <td>3.369971</td>\n",
       "      <td>2.455943</td>\n",
       "      <td>5.828707</td>\n",
       "      <td>7.945307</td>\n",
       "      <td>4.996049</td>\n",
       "      <td>2.890417</td>\n",
       "      <td>2.855620</td>\n",
       "      <td>4.466573</td>\n",
       "      <td>5.747237</td>\n",
       "      <td>2.964972</td>\n",
       "    </tr>\n",
       "  </tbody>\n",
       "</table>\n",
       "</div>"
      ],
      "text/plain": [
       "       fixed acidity  volatile acidity  citric acid  residual sugar  \\\n",
       "count     320.000000        320.000000   320.000000      320.000000   \n",
       "mean        0.010095         -0.020743    -0.030767       -0.031706   \n",
       "std         0.980664          1.016276     1.005836        0.851896   \n",
       "min        -1.897329         -2.065117    -1.398924       -0.929619   \n",
       "25%        -0.638587         -0.776385    -0.897791       -0.446881   \n",
       "50%        -0.238078         -0.104003    -0.165366       -0.239994   \n",
       "75%         0.448509          0.624411     0.811200        0.035856   \n",
       "max         3.824228          3.369971     2.455943        5.828707   \n",
       "\n",
       "        chlorides  free sulfur dioxide  total sulfur dioxide     density  \\\n",
       "count  320.000000           320.000000            320.000000  320.000000   \n",
       "mean     0.012813            -0.004485             -0.106759    0.054522   \n",
       "std      0.922160             1.013733              0.845762    0.918557   \n",
       "min     -1.011727            -1.235146             -1.217252   -2.689489   \n",
       "25%     -0.342042            -0.755823             -0.744427   -0.524653   \n",
       "50%     -0.153693            -0.276501             -0.330705    0.090891   \n",
       "75%      0.060815             0.490416              0.297266    0.591672   \n",
       "max      7.945307             4.996049              2.890417    2.855620   \n",
       "\n",
       "               pH   sulphates     alcohol  \n",
       "count  320.000000  320.000000  320.000000  \n",
       "mean     0.030016    0.019418   -0.069741  \n",
       "std      0.923915    1.059326    0.994140  \n",
       "min     -2.745524   -1.597269   -1.348217  \n",
       "25%     -0.575513   -0.701598   -0.879392  \n",
       "50%      0.062726   -0.283618   -0.363684  \n",
       "75%      0.589273    0.492631    0.527083  \n",
       "max      4.466573    5.747237    2.964972  "
      ]
     },
     "execution_count": 37,
     "metadata": {},
     "output_type": "execute_result"
    }
   ],
   "source": [
    "from sklearn.preprocessing import StandardScaler\n",
    "\n",
    "scaler = StandardScaler().fit(X_train)\n",
    "X_train_scaled = scaler.transform(X_train)\n",
    "X_test_scaled = scaler.transform(X_test)\n",
    "\n",
    "X_train_scaled = pd.DataFrame(X_train_scaled, columns=X_train.columns)\n",
    "X_test_scaled = pd.DataFrame(X_test_scaled, columns=X_test.columns)\n",
    "\n",
    "print(\"\\nTraining set stats (note that mean is around 0 and std around 1) :\")\n",
    "X_train_scaled.describe()\n",
    "print(\"\\nTest set stats (note the deviation of mean from 0 and std from 1): \")\n",
    "X_test_scaled.describe()"
   ]
  },
  {
   "cell_type": "markdown",
   "metadata": {},
   "source": [
    "Note that we applied the standard scaler fitted by the training set on the test set as well, this is because we are not supposed to know anything about the test set\n",
    "\n",
    "Now, on to analyzing the features for the learning algorithms:\n",
    "\n",
    "First, let's look at the correlation between the variables and Quality"
   ]
  },
  {
   "cell_type": "markdown",
   "metadata": {},
   "source": [
    "\n",
    "Since the value we're trying to classify is discrete, a scatterplot would not help much.\n",
    "\n",
    "So, further data graphing (this is where standardization helped):\n",
    "\n",
    "# Swarmplot\n",
    "\n",
    "To modify our data into the format allowed by swarmplot, we use melt to transform the dataset\n",
    "\n",
    "reindexing y_train to concat it with X_train_scaled:"
   ]
  },
  {
   "cell_type": "code",
   "execution_count": 38,
   "metadata": {
    "scrolled": false
   },
   "outputs": [
    {
     "name": "stdout",
     "output_type": "stream",
     "text": [
      "y_train before re-indexing: \n"
     ]
    },
    {
     "data": {
      "text/html": [
       "<div>\n",
       "<style scoped>\n",
       "    .dataframe tbody tr th:only-of-type {\n",
       "        vertical-align: middle;\n",
       "    }\n",
       "\n",
       "    .dataframe tbody tr th {\n",
       "        vertical-align: top;\n",
       "    }\n",
       "\n",
       "    .dataframe thead th {\n",
       "        text-align: right;\n",
       "    }\n",
       "</style>\n",
       "<table border=\"1\" class=\"dataframe\">\n",
       "  <thead>\n",
       "    <tr style=\"text-align: right;\">\n",
       "      <th></th>\n",
       "      <th>quality</th>\n",
       "    </tr>\n",
       "  </thead>\n",
       "  <tbody>\n",
       "    <tr>\n",
       "      <th>797</th>\n",
       "      <td>7</td>\n",
       "    </tr>\n",
       "    <tr>\n",
       "      <th>1386</th>\n",
       "      <td>5</td>\n",
       "    </tr>\n",
       "    <tr>\n",
       "      <th>40</th>\n",
       "      <td>5</td>\n",
       "    </tr>\n",
       "    <tr>\n",
       "      <th>433</th>\n",
       "      <td>5</td>\n",
       "    </tr>\n",
       "    <tr>\n",
       "      <th>874</th>\n",
       "      <td>7</td>\n",
       "    </tr>\n",
       "  </tbody>\n",
       "</table>\n",
       "</div>"
      ],
      "text/plain": [
       "      quality\n",
       "797         7\n",
       "1386        5\n",
       "40          5\n",
       "433         5\n",
       "874         7"
      ]
     },
     "execution_count": 38,
     "metadata": {},
     "output_type": "execute_result"
    },
    {
     "name": "stdout",
     "output_type": "stream",
     "text": [
      "y_train after re-indexing\n"
     ]
    },
    {
     "data": {
      "text/html": [
       "<div>\n",
       "<style scoped>\n",
       "    .dataframe tbody tr th:only-of-type {\n",
       "        vertical-align: middle;\n",
       "    }\n",
       "\n",
       "    .dataframe tbody tr th {\n",
       "        vertical-align: top;\n",
       "    }\n",
       "\n",
       "    .dataframe thead th {\n",
       "        text-align: right;\n",
       "    }\n",
       "</style>\n",
       "<table border=\"1\" class=\"dataframe\">\n",
       "  <thead>\n",
       "    <tr style=\"text-align: right;\">\n",
       "      <th></th>\n",
       "      <th>quality</th>\n",
       "    </tr>\n",
       "  </thead>\n",
       "  <tbody>\n",
       "    <tr>\n",
       "      <th>0</th>\n",
       "      <td>7</td>\n",
       "    </tr>\n",
       "    <tr>\n",
       "      <th>1</th>\n",
       "      <td>5</td>\n",
       "    </tr>\n",
       "    <tr>\n",
       "      <th>2</th>\n",
       "      <td>5</td>\n",
       "    </tr>\n",
       "    <tr>\n",
       "      <th>3</th>\n",
       "      <td>5</td>\n",
       "    </tr>\n",
       "    <tr>\n",
       "      <th>4</th>\n",
       "      <td>7</td>\n",
       "    </tr>\n",
       "  </tbody>\n",
       "</table>\n",
       "</div>"
      ],
      "text/plain": [
       "   quality\n",
       "0        7\n",
       "1        5\n",
       "2        5\n",
       "3        5\n",
       "4        7"
      ]
     },
     "execution_count": 38,
     "metadata": {},
     "output_type": "execute_result"
    },
    {
     "name": "stdout",
     "output_type": "stream",
     "text": [
      "The concatenated train_data_scaled: \n"
     ]
    },
    {
     "data": {
      "text/html": [
       "<div>\n",
       "<style scoped>\n",
       "    .dataframe tbody tr th:only-of-type {\n",
       "        vertical-align: middle;\n",
       "    }\n",
       "\n",
       "    .dataframe tbody tr th {\n",
       "        vertical-align: top;\n",
       "    }\n",
       "\n",
       "    .dataframe thead th {\n",
       "        text-align: right;\n",
       "    }\n",
       "</style>\n",
       "<table border=\"1\" class=\"dataframe\">\n",
       "  <thead>\n",
       "    <tr style=\"text-align: right;\">\n",
       "      <th></th>\n",
       "      <th>fixed acidity</th>\n",
       "      <th>volatile acidity</th>\n",
       "      <th>citric acid</th>\n",
       "      <th>residual sugar</th>\n",
       "      <th>chlorides</th>\n",
       "      <th>free sulfur dioxide</th>\n",
       "      <th>total sulfur dioxide</th>\n",
       "      <th>density</th>\n",
       "      <th>pH</th>\n",
       "      <th>sulphates</th>\n",
       "      <th>alcohol</th>\n",
       "      <th>quality</th>\n",
       "    </tr>\n",
       "  </thead>\n",
       "  <tbody>\n",
       "    <tr>\n",
       "      <th>0</th>\n",
       "      <td>0.562940</td>\n",
       "      <td>-0.888449</td>\n",
       "      <td>0.862598</td>\n",
       "      <td>-0.653769</td>\n",
       "      <td>-1.032654</td>\n",
       "      <td>0.490416</td>\n",
       "      <td>-0.153396</td>\n",
       "      <td>-0.764611</td>\n",
       "      <td>-0.447865</td>\n",
       "      <td>0.910611</td>\n",
       "      <td>0.339553</td>\n",
       "      <td>7</td>\n",
       "    </tr>\n",
       "    <tr>\n",
       "      <th>1</th>\n",
       "      <td>-0.524155</td>\n",
       "      <td>0.624411</td>\n",
       "      <td>-1.039136</td>\n",
       "      <td>-0.515844</td>\n",
       "      <td>0.264860</td>\n",
       "      <td>-0.755823</td>\n",
       "      <td>-0.714876</td>\n",
       "      <td>-0.326427</td>\n",
       "      <td>-0.064922</td>\n",
       "      <td>-0.462752</td>\n",
       "      <td>-0.785627</td>\n",
       "      <td>5</td>\n",
       "    </tr>\n",
       "    <tr>\n",
       "      <th>2</th>\n",
       "      <td>-0.581371</td>\n",
       "      <td>-0.440194</td>\n",
       "      <td>0.451412</td>\n",
       "      <td>2.311619</td>\n",
       "      <td>-0.279259</td>\n",
       "      <td>-0.372365</td>\n",
       "      <td>1.176425</td>\n",
       "      <td>0.560373</td>\n",
       "      <td>0.126550</td>\n",
       "      <td>1.030034</td>\n",
       "      <td>0.058258</td>\n",
       "      <td>5</td>\n",
       "    </tr>\n",
       "    <tr>\n",
       "      <th>3</th>\n",
       "      <td>2.279407</td>\n",
       "      <td>-0.776385</td>\n",
       "      <td>1.839165</td>\n",
       "      <td>-0.171031</td>\n",
       "      <td>0.076511</td>\n",
       "      <td>-0.947552</td>\n",
       "      <td>-0.862633</td>\n",
       "      <td>1.916656</td>\n",
       "      <td>-0.958456</td>\n",
       "      <td>-1.000155</td>\n",
       "      <td>-0.879392</td>\n",
       "      <td>5</td>\n",
       "    </tr>\n",
       "    <tr>\n",
       "      <th>4</th>\n",
       "      <td>1.192312</td>\n",
       "      <td>-0.832417</td>\n",
       "      <td>0.965395</td>\n",
       "      <td>-0.308956</td>\n",
       "      <td>0.348571</td>\n",
       "      <td>-0.947552</td>\n",
       "      <td>-1.099046</td>\n",
       "      <td>-0.044738</td>\n",
       "      <td>-1.213751</td>\n",
       "      <td>-0.044772</td>\n",
       "      <td>1.277203</td>\n",
       "      <td>7</td>\n",
       "    </tr>\n",
       "  </tbody>\n",
       "</table>\n",
       "</div>"
      ],
      "text/plain": [
       "   fixed acidity  volatile acidity  citric acid  residual sugar  chlorides  \\\n",
       "0       0.562940         -0.888449     0.862598       -0.653769  -1.032654   \n",
       "1      -0.524155          0.624411    -1.039136       -0.515844   0.264860   \n",
       "2      -0.581371         -0.440194     0.451412        2.311619  -0.279259   \n",
       "3       2.279407         -0.776385     1.839165       -0.171031   0.076511   \n",
       "4       1.192312         -0.832417     0.965395       -0.308956   0.348571   \n",
       "\n",
       "   free sulfur dioxide  total sulfur dioxide   density        pH  sulphates  \\\n",
       "0             0.490416             -0.153396 -0.764611 -0.447865   0.910611   \n",
       "1            -0.755823             -0.714876 -0.326427 -0.064922  -0.462752   \n",
       "2            -0.372365              1.176425  0.560373  0.126550   1.030034   \n",
       "3            -0.947552             -0.862633  1.916656 -0.958456  -1.000155   \n",
       "4            -0.947552             -1.099046 -0.044738 -1.213751  -0.044772   \n",
       "\n",
       "    alcohol  quality  \n",
       "0  0.339553        7  \n",
       "1 -0.785627        5  \n",
       "2  0.058258        5  \n",
       "3 -0.879392        5  \n",
       "4  1.277203        7  "
      ]
     },
     "execution_count": 38,
     "metadata": {},
     "output_type": "execute_result"
    }
   ],
   "source": [
    "print(\"y_train before re-indexing: \")\n",
    "df_y_train.head()\n",
    "print(\"y_train after re-indexing\")\n",
    "df_y_train.reset_index(drop=True, inplace=True)\n",
    "df_y_train.head()\n",
    "print(\"The concatenated train_data_scaled: \")\n",
    "train_data_scaled = pd.concat([X_train_scaled, df_y_train], axis=1)\n",
    "train_data_scaled.head()"
   ]
  },
  {
   "cell_type": "markdown",
   "metadata": {},
   "source": [
    "Now, we melt the 11 specifications (previously X_train_scaled) into one large column called Stat Type"
   ]
  },
  {
   "cell_type": "code",
   "execution_count": 39,
   "metadata": {},
   "outputs": [
    {
     "data": {
      "text/html": [
       "<div>\n",
       "<style scoped>\n",
       "    .dataframe tbody tr th:only-of-type {\n",
       "        vertical-align: middle;\n",
       "    }\n",
       "\n",
       "    .dataframe tbody tr th {\n",
       "        vertical-align: top;\n",
       "    }\n",
       "\n",
       "    .dataframe thead th {\n",
       "        text-align: right;\n",
       "    }\n",
       "</style>\n",
       "<table border=\"1\" class=\"dataframe\">\n",
       "  <thead>\n",
       "    <tr style=\"text-align: right;\">\n",
       "      <th></th>\n",
       "      <th>quality</th>\n",
       "      <th>Stat Type</th>\n",
       "      <th>value</th>\n",
       "    </tr>\n",
       "  </thead>\n",
       "  <tbody>\n",
       "    <tr>\n",
       "      <th>0</th>\n",
       "      <td>7</td>\n",
       "      <td>fixed acidity</td>\n",
       "      <td>0.562940</td>\n",
       "    </tr>\n",
       "    <tr>\n",
       "      <th>1</th>\n",
       "      <td>5</td>\n",
       "      <td>fixed acidity</td>\n",
       "      <td>-0.524155</td>\n",
       "    </tr>\n",
       "    <tr>\n",
       "      <th>2</th>\n",
       "      <td>5</td>\n",
       "      <td>fixed acidity</td>\n",
       "      <td>-0.581371</td>\n",
       "    </tr>\n",
       "    <tr>\n",
       "      <th>3</th>\n",
       "      <td>5</td>\n",
       "      <td>fixed acidity</td>\n",
       "      <td>2.279407</td>\n",
       "    </tr>\n",
       "    <tr>\n",
       "      <th>4</th>\n",
       "      <td>7</td>\n",
       "      <td>fixed acidity</td>\n",
       "      <td>1.192312</td>\n",
       "    </tr>\n",
       "    <tr>\n",
       "      <th>5</th>\n",
       "      <td>5</td>\n",
       "      <td>fixed acidity</td>\n",
       "      <td>-0.581371</td>\n",
       "    </tr>\n",
       "    <tr>\n",
       "      <th>6</th>\n",
       "      <td>6</td>\n",
       "      <td>fixed acidity</td>\n",
       "      <td>-1.153527</td>\n",
       "    </tr>\n",
       "    <tr>\n",
       "      <th>7</th>\n",
       "      <td>5</td>\n",
       "      <td>fixed acidity</td>\n",
       "      <td>0.391294</td>\n",
       "    </tr>\n",
       "    <tr>\n",
       "      <th>8</th>\n",
       "      <td>6</td>\n",
       "      <td>fixed acidity</td>\n",
       "      <td>-1.153527</td>\n",
       "    </tr>\n",
       "    <tr>\n",
       "      <th>9</th>\n",
       "      <td>5</td>\n",
       "      <td>fixed acidity</td>\n",
       "      <td>-0.581371</td>\n",
       "    </tr>\n",
       "  </tbody>\n",
       "</table>\n",
       "</div>"
      ],
      "text/plain": [
       "   quality      Stat Type     value\n",
       "0        7  fixed acidity  0.562940\n",
       "1        5  fixed acidity -0.524155\n",
       "2        5  fixed acidity -0.581371\n",
       "3        5  fixed acidity  2.279407\n",
       "4        7  fixed acidity  1.192312\n",
       "5        5  fixed acidity -0.581371\n",
       "6        6  fixed acidity -1.153527\n",
       "7        5  fixed acidity  0.391294\n",
       "8        6  fixed acidity -1.153527\n",
       "9        5  fixed acidity -0.581371"
      ]
     },
     "execution_count": 39,
     "metadata": {},
     "output_type": "execute_result"
    }
   ],
   "source": [
    "swarm_data = pd.melt(train_data_scaled, id_vars=[\"quality\"], var_name=\"Stat Type\")\n",
    "swarm_data.head(10)"
   ]
  },
  {
   "cell_type": "markdown",
   "metadata": {},
   "source": [
    "Note that the table is 11 times as long since the 11 features are all melted into 1 column.\n",
    "\n",
    "The swarmplot:"
   ]
  },
  {
   "cell_type": "code",
   "execution_count": 40,
   "metadata": {},
   "outputs": [
    {
     "data": {
      "image/png": "[encoded data removed]",
      "text/plain": [
       "<matplotlib.figure.Figure at 0x9626ff4b70>"
      ]
     },
     "metadata": {},
     "output_type": "display_data"
    }
   ],
   "source": [
    "plt.figure(figsize=(16,8));\n",
    "sns.swarmplot(x='Stat Type', y='value', hue='quality', data=swarm_data, dodge=True);\n",
    "plt.ylim(-3, 6);\n",
    "plt.legend(bbox_to_anchor=(1, 1), loc=2);"
   ]
  },
  {
   "cell_type": "markdown",
   "metadata": {},
   "source": [
    "From the graph, there are no distinct separation (referring to vertical separation) between the overall quality, ie. it's not as simple as for example, higher acidity means higher quality. \n",
    "\n",
    "This could pose a threat to our model. We'll see how it goes.\n",
    "\n",
    "# Heatmap"
   ]
  },
  {
   "cell_type": "code",
   "execution_count": 41,
   "metadata": {},
   "outputs": [
    {
     "data": {
      "image/png": "[encoded data removed]",
      "text/plain": [
       "<matplotlib.figure.Figure at 0x962687fd30>"
      ]
     },
     "metadata": {},
     "output_type": "display_data"
    }
   ],
   "source": [
    "corrmat = train_data.corr()\n",
    "plt.figure(figsize=(12,12));\n",
    "sns.heatmap(corrmat, annot = True, square = True, fmt = '.2f');"
   ]
  },
  {
   "cell_type": "markdown",
   "metadata": {},
   "source": [
    "Nothing too out of the ordinary here either. These features are fine, no risk of having multicollinearity.\n",
    "\n",
    "# Random Forest\n",
    "\n",
    "## Cross Validation with Gridsearch"
   ]
  },
  {
   "cell_type": "code",
   "execution_count": 42,
   "metadata": {},
   "outputs": [
    {
     "data": {
      "text/plain": [
       "GridSearchCV(cv=3, error_score='raise',\n",
       "       estimator=Pipeline(memory=None,\n",
       "     steps=[('standardscaler', StandardScaler(copy=True, with_mean=True, with_std=True)), ('randomforestregressor', RandomForestRegressor(bootstrap=True, criterion='mse', max_depth=None,\n",
       "           max_features='auto', max_leaf_nodes=None,\n",
       "           min_impurity_decr...timators=10, n_jobs=1,\n",
       "           oob_score=False, random_state=111, verbose=0, warm_start=False))]),\n",
       "       fit_params=None, iid=True, n_jobs=1,\n",
       "       param_grid={'randomforestregressor__max_features': ['auto', 'sqrt', 'log2'], 'randomforestregressor__n_estimators': [750, 1000, 1500], 'randomforestregressor__min_samples_split': [2, 4]},\n",
       "       pre_dispatch='2*n_jobs', refit=True, return_train_score='warn',\n",
       "       scoring=None, verbose=0)"
      ]
     },
     "execution_count": 42,
     "metadata": {},
     "output_type": "execute_result"
    },
    {
     "name": "stdout",
     "output_type": "stream",
     "text": [
      "Best Parameters:  {'randomforestregressor__max_features': 'sqrt', 'randomforestregressor__min_samples_split': 2, 'randomforestregressor__n_estimators': 1500}\n"
     ]
    }
   ],
   "source": [
    "from sklearn.ensemble import RandomForestRegressor\n",
    "\n",
    "pipeline_rfr = make_pipeline(\n",
    "    preprocessing.StandardScaler(),\n",
    "    RandomForestRegressor(random_state = 111)\n",
    ")\n",
    "\n",
    "hyperparameters_rfr = {\n",
    "    'randomforestregressor__max_features' : ['auto', 'sqrt', 'log2'],\n",
    "    'randomforestregressor__n_estimators': [750, 1000, 1500],\n",
    "    'randomforestregressor__min_samples_split': [2,4]\n",
    "}\n",
    "\n",
    "CV_rfr = GridSearchCV(pipeline_rfr, hyperparameters_rfr, cv=3)\n",
    "\n",
    "CV_rfr.fit(X_train, y_train)\n",
    "print(\"Best Parameters: \", CV_rfr.best_params_)"
   ]
  },
  {
   "cell_type": "markdown",
   "metadata": {},
   "source": [
    "## Grid Search Results\n",
    "### Run 1:\n",
    "```python\n",
    "hyperparameters_rfr = {\n",
    "    'randomforestregressor__max_features' : ['auto', 'sqrt', 'log2'],\n",
    "    'randomforestregressor__n_estimators': [200, 500, 1000],\n",
    "    'randomforestregressor__min_samples_split': [2,4,8]\n",
    "}\n",
    "\n",
    "Best Parameters:  {\n",
    "    'randomforestregressor__max_features': 'sqrt', \n",
    "    'randomforestregressor__min_samples_split': 2, \n",
    "    'randomforestregressor__n_estimators': 1000\n",
    "}\n",
    "\n",
    "R2 score:  0.53691813790181\n",
    "    \n",
    "Forced Classification Scores:\n",
    "\n",
    "    Precision\tRecall\tF Score\tSupport\n",
    "3\t0.000000\t0.000000\t0.000000\t2\n",
    "4\t0.000000\t0.000000\t0.000000\t11\n",
    "5\t0.736486\t0.801471\t0.767606\t136\n",
    "6\t0.692308\t0.773438\t0.730627\t128\n",
    "7\t0.758621\t0.550000\t0.637681\t40\n",
    "8\t0.000000\t0.000000\t0.000000\t3\n",
    "```\n",
    "\n",
    "### Run 2:\n",
    "```python\n",
    "hyperparameters_rfr = {\n",
    "    'randomforestregressor__max_features' : ['auto', 'sqrt', 'log2'],\n",
    "    'randomforestregressor__n_estimators': [750, 1000, 1500],\n",
    "    'randomforestregressor__min_samples_split': [2,4]\n",
    "}\n",
    "\n",
    "Best Parameters:  {\n",
    "    'randomforestregressor__max_features': 'sqrt', \n",
    "    'randomforestregressor__min_samples_split': 2, \n",
    "    'randomforestregressor__n_estimators': 1500\n",
    "}\n",
    "\n",
    "R2 score:  0.5376639543690431\n",
    "\n",
    "    Precision\tRecall\tF Score\tSupport\n",
    "3\t0.000000\t0.000000\t0.000000\t2\n",
    "4\t0.000000\t0.000000\t0.000000\t11\n",
    "5\t0.726667\t0.801471\t0.762238\t136\n",
    "6\t0.678322\t0.757812\t0.715867\t128\n",
    "7\t0.740741\t0.500000\t0.597015\t40\n",
    "8\t0.000000\t0.000000\t0.000000\t3\n",
    "```\n",
    "\n",
    "## Final Model"
   ]
  },
  {
   "cell_type": "code",
   "execution_count": 43,
   "metadata": {},
   "outputs": [
    {
     "data": {
      "text/plain": [
       "Pipeline(memory=None,\n",
       "     steps=[('standardscaler', StandardScaler(copy=True, with_mean=True, with_std=True)), ('randomforestregressor', RandomForestRegressor(bootstrap=True, criterion='mse', max_depth=None,\n",
       "           max_features='sqrt', max_leaf_nodes=None,\n",
       "           min_impurity_decrease=0.0, min_impurity_split=None,\n",
       "           min_samples_leaf=1, min_samples_split=2,\n",
       "           min_weight_fraction_leaf=0.0, n_estimators=1500, n_jobs=1,\n",
       "           oob_score=False, random_state=None, verbose=0, warm_start=False))])"
      ]
     },
     "execution_count": 43,
     "metadata": {},
     "output_type": "execute_result"
    }
   ],
   "source": [
    "CV_rfr = make_pipeline(\n",
    "    preprocessing.StandardScaler(),\n",
    "    RandomForestRegressor(\n",
    "        max_features = 'sqrt',\n",
    "        n_estimators = 1500,\n",
    "        min_samples_split = 2\n",
    "    )\n",
    ")\n",
    "\n",
    "CV_rfr.fit(X_train, y_train)"
   ]
  },
  {
   "cell_type": "markdown",
   "metadata": {},
   "source": [
    "## Performance"
   ]
  },
  {
   "cell_type": "code",
   "execution_count": 44,
   "metadata": {},
   "outputs": [
    {
     "name": "stdout",
     "output_type": "stream",
     "text": [
      "Actual Qualities: \n"
     ]
    },
    {
     "data": {
      "text/plain": [
       "array([6, 5, 6, 5, 6, 6, 6, 6, 7, 7], dtype=int64)"
      ]
     },
     "execution_count": 44,
     "metadata": {},
     "output_type": "execute_result"
    },
    {
     "name": "stdout",
     "output_type": "stream",
     "text": [
      "Predicted Qualities: \n"
     ]
    },
    {
     "data": {
      "text/plain": [
       "array([5.26, 5.08, 6.43, 4.96, 5.68, 5.73, 5.98, 5.56, 6.82, 6.81])"
      ]
     },
     "execution_count": 44,
     "metadata": {},
     "output_type": "execute_result"
    },
    {
     "name": "stdout",
     "output_type": "stream",
     "text": [
      "Forced Classification: \n"
     ]
    },
    {
     "data": {
      "text/plain": [
       "array([5.00, 5.00, 6.00, 5.00, 6.00, 6.00, 6.00, 6.00, 7.00, 7.00])"
      ]
     },
     "execution_count": 44,
     "metadata": {},
     "output_type": "execute_result"
    },
    {
     "name": "stdout",
     "output_type": "stream",
     "text": [
      "R2 score:  0.5417572298565289\n",
      "Forced Classification Scores:\n"
     ]
    },
    {
     "data": {
      "text/plain": [
       "<matplotlib.figure.Figure at 0x962803d908>"
      ]
     },
     "execution_count": 44,
     "metadata": {},
     "output_type": "execute_result"
    },
    {
     "data": {
      "text/plain": [
       "<matplotlib.axes._subplots.AxesSubplot at 0x9627620cf8>"
      ]
     },
     "execution_count": 44,
     "metadata": {},
     "output_type": "execute_result"
    },
    {
     "data": {
      "text/plain": [
       "Text(0.5,42,'Predicted')"
      ]
     },
     "execution_count": 44,
     "metadata": {},
     "output_type": "execute_result"
    },
    {
     "data": {
      "text/plain": [
       "Text(134.88,0.5,'Actual')"
      ]
     },
     "execution_count": 44,
     "metadata": {},
     "output_type": "execute_result"
    },
    {
     "data": {
      "text/html": [
       "<div>\n",
       "<style scoped>\n",
       "    .dataframe tbody tr th:only-of-type {\n",
       "        vertical-align: middle;\n",
       "    }\n",
       "\n",
       "    .dataframe tbody tr th {\n",
       "        vertical-align: top;\n",
       "    }\n",
       "\n",
       "    .dataframe thead th {\n",
       "        text-align: right;\n",
       "    }\n",
       "</style>\n",
       "<table border=\"1\" class=\"dataframe\">\n",
       "  <thead>\n",
       "    <tr style=\"text-align: right;\">\n",
       "      <th></th>\n",
       "      <th>Precision</th>\n",
       "      <th>Recall</th>\n",
       "      <th>F Score</th>\n",
       "      <th>Support</th>\n",
       "    </tr>\n",
       "  </thead>\n",
       "  <tbody>\n",
       "    <tr>\n",
       "      <th>3</th>\n",
       "      <td>0.000000</td>\n",
       "      <td>0.000000</td>\n",
       "      <td>0.000000</td>\n",
       "      <td>2</td>\n",
       "    </tr>\n",
       "    <tr>\n",
       "      <th>4</th>\n",
       "      <td>0.000000</td>\n",
       "      <td>0.000000</td>\n",
       "      <td>0.000000</td>\n",
       "      <td>11</td>\n",
       "    </tr>\n",
       "    <tr>\n",
       "      <th>5</th>\n",
       "      <td>0.731544</td>\n",
       "      <td>0.801471</td>\n",
       "      <td>0.764912</td>\n",
       "      <td>136</td>\n",
       "    </tr>\n",
       "    <tr>\n",
       "      <th>6</th>\n",
       "      <td>0.685315</td>\n",
       "      <td>0.765625</td>\n",
       "      <td>0.723247</td>\n",
       "      <td>128</td>\n",
       "    </tr>\n",
       "    <tr>\n",
       "      <th>7</th>\n",
       "      <td>0.750000</td>\n",
       "      <td>0.525000</td>\n",
       "      <td>0.617647</td>\n",
       "      <td>40</td>\n",
       "    </tr>\n",
       "    <tr>\n",
       "      <th>8</th>\n",
       "      <td>0.000000</td>\n",
       "      <td>0.000000</td>\n",
       "      <td>0.000000</td>\n",
       "      <td>3</td>\n",
       "    </tr>\n",
       "  </tbody>\n",
       "</table>\n",
       "</div>"
      ],
      "text/plain": [
       "   Precision    Recall   F Score  Support\n",
       "3   0.000000  0.000000  0.000000        2\n",
       "4   0.000000  0.000000  0.000000       11\n",
       "5   0.731544  0.801471  0.764912      136\n",
       "6   0.685315  0.765625  0.723247      128\n",
       "7   0.750000  0.525000  0.617647       40\n",
       "8   0.000000  0.000000  0.000000        3"
      ]
     },
     "execution_count": 44,
     "metadata": {},
     "output_type": "execute_result"
    },
    {
     "data": {
      "image/png": "[encoded data removed]",
      "text/plain": [
       "<matplotlib.figure.Figure at 0x962803d908>"
      ]
     },
     "metadata": {},
     "output_type": "display_data"
    }
   ],
   "source": [
    "from sklearn.metrics import confusion_matrix\n",
    "from sklearn.metrics import precision_recall_fscore_support as score\n",
    "from sklearn.metrics import r2_score\n",
    "y_pred_rfr = 0\n",
    "y_pred_rfr = CV_rfr.predict(X_test)\n",
    "print(\"Actual Qualities: \")\n",
    "y_test.values[0:10]\n",
    "print(\"Predicted Qualities: \")\n",
    "y_pred_rfr[0:10]\n",
    "print(\"Forced Classification: \")\n",
    "y_pred_rfr_int = np.rint(y_pred_rfr)\n",
    "y_pred_rfr_int[0:10]\n",
    "\n",
    "print(\"R2 score: \", r2_score(y_test, y_pred_rfr))\n",
    "print(\"Forced Classification Scores:\")\n",
    "\n",
    "cm = confusion_matrix(y_test, y_pred_rfr_int)\n",
    "     \n",
    "df_cm = pd.DataFrame(cm, range(3,9), range(3,9))\n",
    "plt.figure(figsize = (10,7))\n",
    "sns.heatmap(df_cm, annot=True, fmt='d', square=True)\n",
    "plt.xlabel('Predicted')\n",
    "plt.ylabel('Actual')\n",
    "\n",
    "\n",
    "precision, recall, fscore, support = score(y_test, y_pred_rfr_int);\n",
    "\n",
    "df_precision = pd.DataFrame(precision, index=range(3, 9), columns=[\"Precision\"])\n",
    "df_recall = pd.DataFrame(recall, index=range(3, 9), columns=[\"Recall\"])\n",
    "df_fscore = pd.DataFrame(fscore, index=range(3, 9), columns=[\"F Score\"])\n",
    "df_support = pd.DataFrame(support, index=range(3, 9), columns=[\"Support\"])\n",
    "\n",
    "score = pd.concat([df_precision, df_recall, df_fscore, df_support], axis = 1)\n",
    "score"
   ]
  },
  {
   "cell_type": "markdown",
   "metadata": {},
   "source": [
    "Here, we try a few more algorithms:\n",
    "\n",
    "# SVM\n",
    "## Cross Validation with Gridsearch"
   ]
  },
  {
   "cell_type": "code",
   "execution_count": 45,
   "metadata": {},
   "outputs": [
    {
     "data": {
      "text/plain": [
       "GridSearchCV(cv=3, error_score='raise',\n",
       "       estimator=Pipeline(memory=None,\n",
       "     steps=[('standardscaler', StandardScaler(copy=True, with_mean=True, with_std=True)), ('svr', SVR(C=1.0, cache_size=200, coef0=0.0, degree=3, epsilon=0.1, gamma='auto',\n",
       "  kernel='rbf', max_iter=-1, shrinking=True, tol=0.001, verbose=False))]),\n",
       "       fit_params=None, iid=True, n_jobs=1,\n",
       "       param_grid={'svr__kernel': ['linear', 'poly', 'rbf', 'sigmoid'], 'svr__gamma': [0.03, 0.1, 0.3], 'svr__C': [0.1, 0.3, 1]},\n",
       "       pre_dispatch='2*n_jobs', refit=True, return_train_score='warn',\n",
       "       scoring=None, verbose=0)"
      ]
     },
     "execution_count": 45,
     "metadata": {},
     "output_type": "execute_result"
    },
    {
     "name": "stdout",
     "output_type": "stream",
     "text": [
      "Best Parameters =  {'svr__C': 1, 'svr__gamma': 0.1, 'svr__kernel': 'rbf'}\n"
     ]
    }
   ],
   "source": [
    "from sklearn.svm import SVR\n",
    "\n",
    "pipeline_svr = make_pipeline(\n",
    "    preprocessing.StandardScaler(), \n",
    "    SVR()\n",
    ")\n",
    "\n",
    "hyperparameters_svr = { \n",
    "    \"svr__kernel\" : ['linear', 'poly', 'rbf', 'sigmoid'],\n",
    "    \"svr__gamma\" : [0.03, 0.1, 0.3],\n",
    "    \"svr__C\" : [0.1, 0.3, 1]\n",
    "}\n",
    " \n",
    "CV_svr = GridSearchCV(pipeline_svr, hyperparameters_svr, cv= 3)\n",
    "\n",
    "CV_svr.fit(X_train, y_train)\n",
    "print(\"Best Parameters = \", CV_svr.best_params_)"
   ]
  },
  {
   "cell_type": "markdown",
   "metadata": {},
   "source": [
    "## Grid Search Results\n",
    "\n",
    "### Run 1\n",
    "```python\n",
    "hyperparameters_svr = { \n",
    "    \"svr__kernel\" : ['linear', 'poly', 'rbf', 'sigmoid'],\n",
    "    \"svr__gamma\" : [0.1, 0.001, 0.00001],\n",
    "    \"svr__C\" : [3, 10, 30]\n",
    "}\n",
    "\n",
    "Best Parameters =  {\n",
    "    'svr__C': 3, \n",
    "    'svr__gamma': 0.1, \n",
    "    'svr__kernel': 'rbf'\n",
    "}\n",
    "\n",
    "R2 score:  0.3845920812148286\n",
    "    \n",
    "\tPrecision\tRecall\tF Score\tSupport\n",
    "3\t0.000000\t0.000000\t0.000000\t2\n",
    "4\t0.000000\t0.000000\t0.000000\t11\n",
    "5\t0.696552\t0.742647\t0.718861\t136\n",
    "6\t0.602837\t0.664062\t0.631970\t128\n",
    "7\t0.593750\t0.475000\t0.527778\t40\n",
    "8\t0.000000\t0.000000\t0.000000\t3\n",
    "```\n",
    "\n",
    "### Run 2\n",
    "```python\n",
    "hyperparameters_svr = { \n",
    "    \"svr__kernel\" : ['linear', 'poly', 'rbf', 'sigmoid'],\n",
    "    \"svr__gamma\" : [0.03, 0.1, 0.3],\n",
    "    \"svr__C\" : [1, 3, 5]\n",
    "}\n",
    "\n",
    "Best Parameters =  {\n",
    "    'svr__C': 1, \n",
    "    'svr__gamma': 0.1, \n",
    "    'svr__kernel': 'rbf'\n",
    "}\n",
    "\n",
    "R2 score:  0.4060408127341305\n",
    "    \n",
    "Precision\tRecall\tF Score\tSupport\n",
    "3\t0.000000\t0.000000\t0.000000\t2\n",
    "4\t0.000000\t0.000000\t0.000000\t11\n",
    "5\t0.681529\t0.786765\t0.730375\t136\n",
    "6\t0.594203\t0.640625\t0.616541\t128\n",
    "7\t0.600000\t0.375000\t0.461538\t40\n",
    "8\t0.000000\t0.000000\t0.000000\t3\n",
    "```\n",
    "### Run 3 (no change)\n",
    "```python\n",
    "hyperparameters_svr = { \n",
    "    \"svr__kernel\" : ['linear', 'poly', 'rbf', 'sigmoid'],\n",
    "    \"svr__gamma\" : [0.03, 0.1, 0.3],\n",
    "    \"svr__C\" : [0.1, 0.3, 1]\n",
    "}\n",
    "\n",
    "Best Parameters =  {\n",
    "    'svr__C': 1, \n",
    "    'svr__gamma': 0.1, \n",
    "    'svr__kernel': 'rbf'\n",
    "}\n",
    "\n",
    "R2 score:  0.4060408127341305\n",
    "    \n",
    "Precision\tRecall\tF Score\tSupport\n",
    "3\t0.000000\t0.000000\t0.000000\t2\n",
    "4\t0.000000\t0.000000\t0.000000\t11\n",
    "5\t0.681529\t0.786765\t0.730375\t136\n",
    "6\t0.594203\t0.640625\t0.616541\t128\n",
    "7\t0.600000\t0.375000\t0.461538\t40\n",
    "8\t0.000000\t0.000000\t0.000000\t3\n",
    "```\n",
    "\n",
    "svr is maxed out as well.\n",
    "\n",
    "## Final model:"
   ]
  },
  {
   "cell_type": "code",
   "execution_count": 46,
   "metadata": {},
   "outputs": [
    {
     "data": {
      "text/plain": [
       "Pipeline(memory=None,\n",
       "     steps=[('standardscaler', StandardScaler(copy=True, with_mean=True, with_std=True)), ('svr', SVR(C=1, cache_size=200, coef0=0.0, degree=3, epsilon=0.1, gamma=0.1,\n",
       "  kernel='rbf', max_iter=-1, shrinking=True, tol=0.001, verbose=False))])"
      ]
     },
     "execution_count": 46,
     "metadata": {},
     "output_type": "execute_result"
    }
   ],
   "source": [
    "CV_svr = make_pipeline(\n",
    "    preprocessing.StandardScaler(), \n",
    "    SVR(\n",
    "        C = 1, \n",
    "        gamma = 0.1, \n",
    "        kernel = 'rbf'\n",
    "    )\n",
    ")\n",
    "\n",
    "CV_svr.fit(X_train, y_train)"
   ]
  },
  {
   "cell_type": "markdown",
   "metadata": {},
   "source": [
    "## Performance: "
   ]
  },
  {
   "cell_type": "code",
   "execution_count": 47,
   "metadata": {},
   "outputs": [
    {
     "name": "stdout",
     "output_type": "stream",
     "text": [
      "Actual Qualities: \n"
     ]
    },
    {
     "data": {
      "text/plain": [
       "array([6, 5, 6, 5, 6, 6, 6, 6, 7, 7], dtype=int64)"
      ]
     },
     "execution_count": 47,
     "metadata": {},
     "output_type": "execute_result"
    },
    {
     "name": "stdout",
     "output_type": "stream",
     "text": [
      "Predicted Qualities: \n"
     ]
    },
    {
     "data": {
      "text/plain": [
       "array([5.20, 5.10, 6.78, 5.07, 5.84, 5.85, 6.03, 5.59, 6.74, 6.75])"
      ]
     },
     "execution_count": 47,
     "metadata": {},
     "output_type": "execute_result"
    },
    {
     "name": "stdout",
     "output_type": "stream",
     "text": [
      "Forced Classification: \n"
     ]
    },
    {
     "data": {
      "text/plain": [
       "array([5.00, 5.00, 7.00, 5.00, 6.00, 6.00, 6.00, 6.00, 7.00, 7.00])"
      ]
     },
     "execution_count": 47,
     "metadata": {},
     "output_type": "execute_result"
    },
    {
     "name": "stdout",
     "output_type": "stream",
     "text": [
      "R2 score:  0.4060408127341305\n",
      "Forced Classification Scores:\n"
     ]
    },
    {
     "data": {
      "text/plain": [
       "<matplotlib.figure.Figure at 0x9626991320>"
      ]
     },
     "execution_count": 47,
     "metadata": {},
     "output_type": "execute_result"
    },
    {
     "data": {
      "text/plain": [
       "<matplotlib.axes._subplots.AxesSubplot at 0x96270121d0>"
      ]
     },
     "execution_count": 47,
     "metadata": {},
     "output_type": "execute_result"
    },
    {
     "data": {
      "text/plain": [
       "Text(0.5,42,'Predicted')"
      ]
     },
     "execution_count": 47,
     "metadata": {},
     "output_type": "execute_result"
    },
    {
     "data": {
      "text/plain": [
       "Text(134.88,0.5,'Actual')"
      ]
     },
     "execution_count": 47,
     "metadata": {},
     "output_type": "execute_result"
    },
    {
     "data": {
      "text/html": [
       "<div>\n",
       "<style scoped>\n",
       "    .dataframe tbody tr th:only-of-type {\n",
       "        vertical-align: middle;\n",
       "    }\n",
       "\n",
       "    .dataframe tbody tr th {\n",
       "        vertical-align: top;\n",
       "    }\n",
       "\n",
       "    .dataframe thead th {\n",
       "        text-align: right;\n",
       "    }\n",
       "</style>\n",
       "<table border=\"1\" class=\"dataframe\">\n",
       "  <thead>\n",
       "    <tr style=\"text-align: right;\">\n",
       "      <th></th>\n",
       "      <th>Precision</th>\n",
       "      <th>Recall</th>\n",
       "      <th>F Score</th>\n",
       "      <th>Support</th>\n",
       "    </tr>\n",
       "  </thead>\n",
       "  <tbody>\n",
       "    <tr>\n",
       "      <th>3</th>\n",
       "      <td>0.000000</td>\n",
       "      <td>0.000000</td>\n",
       "      <td>0.000000</td>\n",
       "      <td>2</td>\n",
       "    </tr>\n",
       "    <tr>\n",
       "      <th>4</th>\n",
       "      <td>0.000000</td>\n",
       "      <td>0.000000</td>\n",
       "      <td>0.000000</td>\n",
       "      <td>11</td>\n",
       "    </tr>\n",
       "    <tr>\n",
       "      <th>5</th>\n",
       "      <td>0.681529</td>\n",
       "      <td>0.786765</td>\n",
       "      <td>0.730375</td>\n",
       "      <td>136</td>\n",
       "    </tr>\n",
       "    <tr>\n",
       "      <th>6</th>\n",
       "      <td>0.594203</td>\n",
       "      <td>0.640625</td>\n",
       "      <td>0.616541</td>\n",
       "      <td>128</td>\n",
       "    </tr>\n",
       "    <tr>\n",
       "      <th>7</th>\n",
       "      <td>0.600000</td>\n",
       "      <td>0.375000</td>\n",
       "      <td>0.461538</td>\n",
       "      <td>40</td>\n",
       "    </tr>\n",
       "    <tr>\n",
       "      <th>8</th>\n",
       "      <td>0.000000</td>\n",
       "      <td>0.000000</td>\n",
       "      <td>0.000000</td>\n",
       "      <td>3</td>\n",
       "    </tr>\n",
       "  </tbody>\n",
       "</table>\n",
       "</div>"
      ],
      "text/plain": [
       "   Precision    Recall   F Score  Support\n",
       "3   0.000000  0.000000  0.000000        2\n",
       "4   0.000000  0.000000  0.000000       11\n",
       "5   0.681529  0.786765  0.730375      136\n",
       "6   0.594203  0.640625  0.616541      128\n",
       "7   0.600000  0.375000  0.461538       40\n",
       "8   0.000000  0.000000  0.000000        3"
      ]
     },
     "execution_count": 47,
     "metadata": {},
     "output_type": "execute_result"
    },
    {
     "data": {
      "image/png": "[encoded data removed]",
      "text/plain": [
       "<matplotlib.figure.Figure at 0x9626991320>"
      ]
     },
     "metadata": {},
     "output_type": "display_data"
    }
   ],
   "source": [
    "from sklearn.metrics import confusion_matrix\n",
    "from sklearn.metrics import precision_recall_fscore_support as score\n",
    "from sklearn.metrics import r2_score\n",
    "\n",
    "y_pred_svr = 0\n",
    "y_pred_svr = CV_svr.predict(X_test)\n",
    "print(\"Actual Qualities: \")\n",
    "y_test.values[0:10]\n",
    "print(\"Predicted Qualities: \")\n",
    "y_pred_svr[0:10]\n",
    "print(\"Forced Classification: \")\n",
    "y_pred_svr_int = np.rint(y_pred_svr)\n",
    "y_pred_svr_int[0:10]\n",
    "\n",
    "print(\"R2 score: \", r2_score(y_test, y_pred_svr))\n",
    "print(\"Forced Classification Scores:\")\n",
    "\n",
    "cm = confusion_matrix(y_test, y_pred_svr_int)\n",
    "     \n",
    "df_cm = pd.DataFrame(cm, range(3,9), range(3,9))\n",
    "plt.figure(figsize = (10,7))\n",
    "sns.heatmap(df_cm, annot=True, fmt='d', square=True)\n",
    "plt.xlabel('Predicted')\n",
    "plt.ylabel('Actual')\n",
    "\n",
    "\n",
    "precision, recall, fscore, support = score(y_test, y_pred_svr_int);\n",
    "\n",
    "df_precision = pd.DataFrame(precision, index=range(3, 9), columns=[\"Precision\"])\n",
    "df_recall = pd.DataFrame(recall, index=range(3, 9), columns=[\"Recall\"])\n",
    "df_fscore = pd.DataFrame(fscore, index=range(3, 9), columns=[\"F Score\"])\n",
    "df_support = pd.DataFrame(support, index=range(3, 9), columns=[\"Support\"])\n",
    "\n",
    "score = pd.concat([df_precision, df_recall, df_fscore, df_support], axis = 1)\n",
    "score"
   ]
  },
  {
   "cell_type": "markdown",
   "metadata": {},
   "source": [
    "Now let's another algorithm: Neural Network\n",
    "\n",
    "Hopefully it would give us better results\n",
    "\n",
    "# Neural Network\n",
    "## Cross Validation with Gridsearch"
   ]
  },
  {
   "cell_type": "code",
   "execution_count": 48,
   "metadata": {},
   "outputs": [
    {
     "data": {
      "text/plain": [
       "GridSearchCV(cv=3, error_score='raise',\n",
       "       estimator=Pipeline(memory=None,\n",
       "     steps=[('standardscaler', StandardScaler(copy=True, with_mean=True, with_std=True)), ('mlpregressor', MLPRegressor(activation='relu', alpha=0.0001, batch_size='auto', beta_1=0.9,\n",
       "       beta_2=0.999, early_stopping=False, epsilon=1e-08,\n",
       "       hidden_layer_sizes=(100,), learning_rate='constant',\n",
       "   ...=True, solver='adam', tol=0.0001, validation_fraction=0.1,\n",
       "       verbose=False, warm_start=False))]),\n",
       "       fit_params=None, iid=True, n_jobs=1,\n",
       "       param_grid={'mlpregressor__learning_rate': ['constant', 'invscaling', 'adaptive'], 'mlpregressor__hidden_layer_sizes': [15, 20, 25], 'mlpregressor__alpha': [0.03, 0.1, 0.3], 'mlpregressor__activation': ['logistic', 'tanh', 'relu']},\n",
       "       pre_dispatch='2*n_jobs', refit=True, return_train_score='warn',\n",
       "       scoring=None, verbose=0)"
      ]
     },
     "execution_count": 48,
     "metadata": {},
     "output_type": "execute_result"
    },
    {
     "name": "stdout",
     "output_type": "stream",
     "text": [
      "Best Parameters =  {'mlpregressor__activation': 'tanh', 'mlpregressor__alpha': 0.3, 'mlpregressor__hidden_layer_sizes': 20, 'mlpregressor__learning_rate': 'constant'}\n"
     ]
    }
   ],
   "source": [
    "from sklearn.neural_network import MLPRegressor\n",
    "\n",
    "pipeline_nn = make_pipeline(\n",
    "    preprocessing.StandardScaler(), \n",
    "    MLPRegressor(max_iter=1000)\n",
    ")\n",
    "\n",
    "hyperparameters_nn = {\n",
    "    'mlpregressor__learning_rate': [\"constant\", \"invscaling\", \"adaptive\"],\n",
    "    'mlpregressor__hidden_layer_sizes': [(15), (20), (25)],\n",
    "    'mlpregressor__alpha': [0.03, 0.1, 0.3],\n",
    "    'mlpregressor__activation': ['logistic', 'tanh', 'relu']\n",
    "}\n",
    "\n",
    "CV_nn = GridSearchCV(pipeline_nn, hyperparameters_nn, cv=3)\n",
    "\n",
    "CV_nn.fit(X_train, y_train)\n",
    "print(\"Best Parameters = \", CV_nn.best_params_)"
   ]
  },
  {
   "cell_type": "markdown",
   "metadata": {},
   "source": [
    "## GridSearch Results\n",
    "### Run 1:\n",
    "```python\n",
    "hyperparameters_nn = {\n",
    "    'mlpregressor__learning_rate': [\"constant\", \"invscaling\", \"adaptive\"],\n",
    "    'mlpregressor__hidden_layer_sizes': [(5), (10), (20)],\n",
    "    'mlpregressor__alpha': [0.00001, 0.001, 0.1],\n",
    "    'mlpregressor__activation': ['logistic', 'tanh', 'relu']\n",
    "}\n",
    "\n",
    "Best Parameters =  {\n",
    "    'mlpregressor__activation': 'tanh', \n",
    "    'mlpregressor__alpha': 0.1, \n",
    "    'mlpregressor__hidden_layer_sizes': 20, \n",
    "    'mlpregressor__learning_rate': 'invscaling'\n",
    "}\n",
    "\n",
    "R2 score:  0.4055030582521735\n",
    "    \n",
    "\tPrecision\tRecall\tF Score\tSupport\n",
    "3\t0.000000\t0.000000\t0.000000\t2\n",
    "4\t0.000000\t0.000000\t0.000000\t11\n",
    "5\t0.680272\t0.735294\t0.706714\t136\n",
    "6\t0.598639\t0.687500\t0.640000\t128\n",
    "7\t0.653846\t0.425000\t0.515152\t40\n",
    "8\t0.000000\t0.000000\t0.000000\t3\n",
    "\n",
    "```\n",
    "\n",
    "### Run 2:\n",
    "```python\n",
    "hyperparameters_nn = {\n",
    "    'mlpregressor__learning_rate': [\"constant\", \"invscaling\", \"adaptive\"],\n",
    "    'mlpregressor__hidden_layer_sizes': [(15), (20), (25)],\n",
    "    'mlpregressor__alpha': [0.03, 0.1, 0.3],\n",
    "    'mlpregressor__activation': ['logistic', 'tanh', 'relu']\n",
    "}\n",
    "\n",
    "Best Parameters =  {\n",
    "    'mlpregressor__activation': 'tanh', \n",
    "    'mlpregressor__alpha': 0.3, \n",
    "    'mlpregressor__hidden_layer_sizes': 20, \n",
    "    'mlpregressor__learning_rate': 'adaptive'\n",
    "}\n",
    "\n",
    "R2 score:  0.4122590801837638\n",
    "    \n",
    "\tPrecision\tRecall\tF Score\tSupport\n",
    "3\t0.000000\t0.000000\t0.000000\t2\n",
    "4\t0.666667\t0.181818\t0.285714\t11\n",
    "5\t0.697368\t0.779412\t0.736111\t136\n",
    "6\t0.622378\t0.695312\t0.656827\t128\n",
    "7\t0.636364\t0.350000\t0.451613\t40\n",
    "8\t0.000000\t0.000000\t0.000000\t3\n",
    "\n",
    "```\n",
    "\n",
    "## Final Model"
   ]
  },
  {
   "cell_type": "code",
   "execution_count": 49,
   "metadata": {},
   "outputs": [
    {
     "data": {
      "text/plain": [
       "Pipeline(memory=None,\n",
       "     steps=[('standardscaler', StandardScaler(copy=True, with_mean=True, with_std=True)), ('mlpregressor', MLPRegressor(activation='tanh', alpha=0.3, batch_size='auto', beta_1=0.9,\n",
       "       beta_2=0.999, early_stopping=False, epsilon=1e-08,\n",
       "       hidden_layer_sizes=20, learning_rate='adaptive',\n",
       "       lea...=True, solver='adam', tol=0.0001, validation_fraction=0.1,\n",
       "       verbose=False, warm_start=False))])"
      ]
     },
     "execution_count": 49,
     "metadata": {},
     "output_type": "execute_result"
    }
   ],
   "source": [
    "CV_nn = make_pipeline(\n",
    "    preprocessing.StandardScaler(),\n",
    "    MLPRegressor(\n",
    "        activation = 'tanh',\n",
    "        alpha = 0.3,\n",
    "        hidden_layer_sizes = 20,\n",
    "        learning_rate = 'adaptive'\n",
    "    )\n",
    ")\n",
    "\n",
    "CV_nn.fit(X_train, y_train)"
   ]
  },
  {
   "cell_type": "markdown",
   "metadata": {},
   "source": [
    "## Performance"
   ]
  },
  {
   "cell_type": "code",
   "execution_count": 50,
   "metadata": {},
   "outputs": [
    {
     "name": "stdout",
     "output_type": "stream",
     "text": [
      "Actual Qualities: \n"
     ]
    },
    {
     "data": {
      "text/plain": [
       "array([6, 5, 6, 5, 6, 6, 6, 6, 7, 7], dtype=int64)"
      ]
     },
     "execution_count": 50,
     "metadata": {},
     "output_type": "execute_result"
    },
    {
     "name": "stdout",
     "output_type": "stream",
     "text": [
      "Predicted Qualities: \n"
     ]
    },
    {
     "data": {
      "text/plain": [
       "array([5.37, 5.45, 6.77, 5.11, 5.40, 5.49, 6.05, 5.76, 6.32, 6.62])"
      ]
     },
     "execution_count": 50,
     "metadata": {},
     "output_type": "execute_result"
    },
    {
     "name": "stdout",
     "output_type": "stream",
     "text": [
      "Forced Classification: \n"
     ]
    },
    {
     "data": {
      "text/plain": [
       "array([5.00, 5.00, 7.00, 5.00, 5.00, 5.00, 6.00, 6.00, 6.00, 7.00])"
      ]
     },
     "execution_count": 50,
     "metadata": {},
     "output_type": "execute_result"
    },
    {
     "name": "stdout",
     "output_type": "stream",
     "text": [
      "R2 score:  0.37704509973426115\n",
      "Confusion Matrix: \n"
     ]
    },
    {
     "data": {
      "text/plain": [
       "<matplotlib.figure.Figure at 0x9626c17550>"
      ]
     },
     "execution_count": 50,
     "metadata": {},
     "output_type": "execute_result"
    },
    {
     "data": {
      "text/plain": [
       "<matplotlib.axes._subplots.AxesSubplot at 0x9626c4c630>"
      ]
     },
     "execution_count": 50,
     "metadata": {},
     "output_type": "execute_result"
    },
    {
     "data": {
      "text/plain": [
       "Text(0.5,42,'Predicted')"
      ]
     },
     "execution_count": 50,
     "metadata": {},
     "output_type": "execute_result"
    },
    {
     "data": {
      "text/plain": [
       "Text(134.88,0.5,'Actual')"
      ]
     },
     "execution_count": 50,
     "metadata": {},
     "output_type": "execute_result"
    },
    {
     "name": "stdout",
     "output_type": "stream",
     "text": [
      "Classification Scores: \n"
     ]
    },
    {
     "data": {
      "text/html": [
       "<div>\n",
       "<style scoped>\n",
       "    .dataframe tbody tr th:only-of-type {\n",
       "        vertical-align: middle;\n",
       "    }\n",
       "\n",
       "    .dataframe tbody tr th {\n",
       "        vertical-align: top;\n",
       "    }\n",
       "\n",
       "    .dataframe thead th {\n",
       "        text-align: right;\n",
       "    }\n",
       "</style>\n",
       "<table border=\"1\" class=\"dataframe\">\n",
       "  <thead>\n",
       "    <tr style=\"text-align: right;\">\n",
       "      <th></th>\n",
       "      <th>Precision</th>\n",
       "      <th>Recall</th>\n",
       "      <th>F Score</th>\n",
       "      <th>Support</th>\n",
       "    </tr>\n",
       "  </thead>\n",
       "  <tbody>\n",
       "    <tr>\n",
       "      <th>3</th>\n",
       "      <td>0.000000</td>\n",
       "      <td>0.000000</td>\n",
       "      <td>0.000000</td>\n",
       "      <td>2</td>\n",
       "    </tr>\n",
       "    <tr>\n",
       "      <th>4</th>\n",
       "      <td>0.500000</td>\n",
       "      <td>0.090909</td>\n",
       "      <td>0.153846</td>\n",
       "      <td>11</td>\n",
       "    </tr>\n",
       "    <tr>\n",
       "      <th>5</th>\n",
       "      <td>0.687075</td>\n",
       "      <td>0.742647</td>\n",
       "      <td>0.713781</td>\n",
       "      <td>136</td>\n",
       "    </tr>\n",
       "    <tr>\n",
       "      <th>6</th>\n",
       "      <td>0.588235</td>\n",
       "      <td>0.703125</td>\n",
       "      <td>0.640569</td>\n",
       "      <td>128</td>\n",
       "    </tr>\n",
       "    <tr>\n",
       "      <th>7</th>\n",
       "      <td>0.666667</td>\n",
       "      <td>0.300000</td>\n",
       "      <td>0.413793</td>\n",
       "      <td>40</td>\n",
       "    </tr>\n",
       "    <tr>\n",
       "      <th>8</th>\n",
       "      <td>0.000000</td>\n",
       "      <td>0.000000</td>\n",
       "      <td>0.000000</td>\n",
       "      <td>3</td>\n",
       "    </tr>\n",
       "  </tbody>\n",
       "</table>\n",
       "</div>"
      ],
      "text/plain": [
       "   Precision    Recall   F Score  Support\n",
       "3   0.000000  0.000000  0.000000        2\n",
       "4   0.500000  0.090909  0.153846       11\n",
       "5   0.687075  0.742647  0.713781      136\n",
       "6   0.588235  0.703125  0.640569      128\n",
       "7   0.666667  0.300000  0.413793       40\n",
       "8   0.000000  0.000000  0.000000        3"
      ]
     },
     "execution_count": 50,
     "metadata": {},
     "output_type": "execute_result"
    },
    {
     "data": {
      "image/png": "[encoded data removed]",
      "text/plain": [
       "<matplotlib.figure.Figure at 0x9626c17550>"
      ]
     },
     "metadata": {},
     "output_type": "display_data"
    }
   ],
   "source": [
    "from sklearn.metrics import confusion_matrix\n",
    "from sklearn.metrics import precision_recall_fscore_support as score\n",
    "from sklearn.metrics import r2_score\n",
    "\n",
    "y_pred_nn = 0\n",
    "y_pred_nn = CV_nn.predict(X_test)\n",
    "print(\"Actual Qualities: \")\n",
    "y_test.values[0:10]\n",
    "print(\"Predicted Qualities: \")\n",
    "y_pred_nn[0:10]\n",
    "print(\"Forced Classification: \")\n",
    "y_pred_nn_int = np.rint(y_pred_nn)\n",
    "y_pred_nn_int[0:10]\n",
    "\n",
    "print(\"R2 score: \", r2_score(y_test, y_pred_nn))\n",
    "\n",
    "print(\"Confusion Matrix: \")\n",
    "cm = confusion_matrix(y_test, y_pred_nn_int)\n",
    "     \n",
    "df_cm = pd.DataFrame(cm, range(3,9), range(3,9))\n",
    "\n",
    "plt.figure(figsize = (10,7));\n",
    "sns.heatmap(df_cm, annot=True, fmt='d', square=True);\n",
    "plt.xlabel('Predicted');\n",
    "plt.ylabel('Actual');\n",
    "\n",
    "\n",
    "print(\"Classification Scores: \")\n",
    "precision, recall, fscore, support = score(y_test, y_pred_nn_int);\n",
    "\n",
    "df_precision = pd.DataFrame(precision, index=range(3, 9), columns=[\"Precision\"])\n",
    "df_recall = pd.DataFrame(recall, index=range(3, 9), columns=[\"Recall\"])\n",
    "df_fscore = pd.DataFrame(fscore, index=range(3, 9), columns=[\"F Score\"])\n",
    "df_support = pd.DataFrame(support, index=range(3, 9), columns=[\"Support\"])\n",
    "\n",
    "score = pd.concat([df_precision, df_recall, df_fscore, df_support], axis = 1)\n",
    "score"
   ]
  },
  {
   "cell_type": "markdown",
   "metadata": {},
   "source": [
    "The last model we are going to try:\n",
    "\n",
    "# KNeighbors"
   ]
  },
  {
   "cell_type": "code",
   "execution_count": 51,
   "metadata": {},
   "outputs": [
    {
     "data": {
      "text/plain": [
       "GridSearchCV(cv=3, error_score='raise',\n",
       "       estimator=Pipeline(memory=None,\n",
       "     steps=[('standardscaler', StandardScaler(copy=True, with_mean=True, with_std=True)), ('kneighborsregressor', KNeighborsRegressor(algorithm='auto', leaf_size=30, metric='minkowski',\n",
       "          metric_params=None, n_jobs=1, n_neighbors=5, p=2,\n",
       "          weights='uniform'))]),\n",
       "       fit_params=None, iid=True, n_jobs=1,\n",
       "       param_grid={'kneighborsregressor__n_neighbors': [25, 30, 35, 50], 'kneighborsregressor__weights': ['distance', 'uniform'], 'kneighborsregressor__algorithm': ['auto', 'ball_tree', 'kd_tree', 'brute']},\n",
       "       pre_dispatch='2*n_jobs', refit=True, return_train_score='warn',\n",
       "       scoring=None, verbose=0)"
      ]
     },
     "execution_count": 51,
     "metadata": {},
     "output_type": "execute_result"
    },
    {
     "name": "stdout",
     "output_type": "stream",
     "text": [
      "Best Parameters =  {'kneighborsregressor__algorithm': 'auto', 'kneighborsregressor__n_neighbors': 35, 'kneighborsregressor__weights': 'distance'}\n"
     ]
    }
   ],
   "source": [
    "from sklearn.neighbors import KNeighborsRegressor\n",
    "\n",
    "pipeline_kn = make_pipeline(\n",
    "    preprocessing.StandardScaler(),\n",
    "    KNeighborsRegressor()\n",
    ")\n",
    "\n",
    "hyperparameters_kn = {\n",
    "    'kneighborsregressor__n_neighbors': [25, 30, 35, 50],\n",
    "    'kneighborsregressor__weights': ['distance', 'uniform'],\n",
    "    'kneighborsregressor__algorithm': ['auto', 'ball_tree', 'kd_tree', 'brute']\n",
    "}\n",
    "\n",
    "CV_kn = GridSearchCV(pipeline_kn, hyperparameters_kn,cv=3)\n",
    "\n",
    "CV_kn.fit(X_train, y_train)\n",
    "\n",
    "print(\"Best Parameters = \", CV_kn.best_params_)"
   ]
  },
  {
   "cell_type": "markdown",
   "metadata": {},
   "source": [
    "## GridSearch Results\n",
    "### Run 1:\n",
    "```python\n",
    "hyperparameters_kn = {\n",
    "    'kneighborsregressor__n_neighbors': [10,20,30],\n",
    "    'kneighborsregressor__weights': ['distance', 'uniform'],\n",
    "    'kneighborsregressor__algorithm': ['auto', 'ball_tree', 'kd_tree', 'brute']\n",
    "}\n",
    "\n",
    "Best Parameters =  {\n",
    "    'kneighborsregressor__algorithm': 'auto', \n",
    "    'kneighborsregressor__n_neighbors': 30, \n",
    "    'kneighborsregressor__weights': 'distance'\n",
    "}\n",
    "\n",
    "R2 score:  0.48709930370720866\n",
    "    \n",
    "\tPrecision\tRecall\tF Score\tSupport\n",
    "3\t0.000000\t0.000000\t0.000000\t2\n",
    "4\t0.000000\t0.000000\t0.000000\t11\n",
    "5\t0.748252\t0.786765\t0.767025\t136\n",
    "6\t0.646259\t0.742188\t0.690909\t128\n",
    "7\t0.689655\t0.500000\t0.579710\t40\n",
    "8\t1.000000\t0.333333\t0.500000\t3\n",
    "```\n",
    "\n",
    "### Run 2:\n",
    "```python\n",
    "hyperparameters_kn = {\n",
    "    'kneighborsregressor__n_neighbors': [25, 30, 35, 50],\n",
    "    'kneighborsregressor__weights': ['distance', 'uniform'],\n",
    "    'kneighborsregressor__algorithm': ['auto', 'ball_tree', 'kd_tree', 'brute']\n",
    "}\n",
    "\n",
    "Best Parameters =  {\n",
    "    'kneighborsregressor__algorithm': 'auto', \n",
    "    'kneighborsregressor__n_neighbors': 35, \n",
    "    'kneighborsregressor__weights': 'distance'\n",
    "}\n",
    "\n",
    "R2 score:  0.4885513156450002\n",
    "\n",
    "Precision\tRecall\tF Score\tSupport\n",
    "3\t0.000000\t0.000000\t0.000000\t2\n",
    "4\t0.000000\t0.000000\t0.000000\t11\n",
    "5\t0.734694\t0.794118\t0.763251\t136\n",
    "6\t0.647887\t0.718750\t0.681481\t128\n",
    "7\t0.700000\t0.525000\t0.600000\t40\n",
    "8\t1.000000\t0.333333\t0.500000\t3\n",
    "```\n",
    "\n",
    "## Final Model"
   ]
  },
  {
   "cell_type": "code",
   "execution_count": 52,
   "metadata": {},
   "outputs": [
    {
     "data": {
      "text/plain": [
       "Pipeline(memory=None,\n",
       "     steps=[('standardscaler', StandardScaler(copy=True, with_mean=True, with_std=True)), ('kneighborsregressor', KNeighborsRegressor(algorithm='auto', leaf_size=30, metric='minkowski',\n",
       "          metric_params=None, n_jobs=1, n_neighbors=35, p=2,\n",
       "          weights='distance'))])"
      ]
     },
     "execution_count": 52,
     "metadata": {},
     "output_type": "execute_result"
    }
   ],
   "source": [
    "CV_kn = make_pipeline(\n",
    "    preprocessing.StandardScaler(),\n",
    "    KNeighborsRegressor(\n",
    "        algorithm = 'auto',\n",
    "        n_neighbors = 35,\n",
    "        weights = 'distance'\n",
    "    )\n",
    ")\n",
    "\n",
    "CV_kn.fit(X_train, y_train)"
   ]
  },
  {
   "cell_type": "markdown",
   "metadata": {},
   "source": [
    "## Performance"
   ]
  },
  {
   "cell_type": "code",
   "execution_count": 53,
   "metadata": {},
   "outputs": [
    {
     "name": "stdout",
     "output_type": "stream",
     "text": [
      "Actual Qualities: \n"
     ]
    },
    {
     "data": {
      "text/plain": [
       "array([6, 5, 6, 5, 6, 6, 6, 6, 7, 7], dtype=int64)"
      ]
     },
     "execution_count": 53,
     "metadata": {},
     "output_type": "execute_result"
    },
    {
     "name": "stdout",
     "output_type": "stream",
     "text": [
      "Predicted Qualities: \n"
     ]
    },
    {
     "data": {
      "text/plain": [
       "array([5.41, 5.00, 6.35, 5.05, 5.50, 6.00, 5.83, 5.60, 7.00, 6.69])"
      ]
     },
     "execution_count": 53,
     "metadata": {},
     "output_type": "execute_result"
    },
    {
     "name": "stdout",
     "output_type": "stream",
     "text": [
      "Forced Classification: \n"
     ]
    },
    {
     "data": {
      "text/plain": [
       "array([5.00, 5.00, 6.00, 5.00, 5.00, 6.00, 6.00, 6.00, 7.00, 7.00])"
      ]
     },
     "execution_count": 53,
     "metadata": {},
     "output_type": "execute_result"
    },
    {
     "name": "stdout",
     "output_type": "stream",
     "text": [
      "R2 score:  0.4885513156450002\n",
      "Forced Classification Scores:\n"
     ]
    },
    {
     "data": {
      "text/plain": [
       "<matplotlib.figure.Figure at 0x9626c4cd68>"
      ]
     },
     "execution_count": 53,
     "metadata": {},
     "output_type": "execute_result"
    },
    {
     "data": {
      "text/plain": [
       "<matplotlib.axes._subplots.AxesSubplot at 0x9626fcbcc0>"
      ]
     },
     "execution_count": 53,
     "metadata": {},
     "output_type": "execute_result"
    },
    {
     "data": {
      "text/plain": [
       "Text(0.5,42,'Predicted')"
      ]
     },
     "execution_count": 53,
     "metadata": {},
     "output_type": "execute_result"
    },
    {
     "data": {
      "text/plain": [
       "Text(134.88,0.5,'Actual')"
      ]
     },
     "execution_count": 53,
     "metadata": {},
     "output_type": "execute_result"
    },
    {
     "data": {
      "text/html": [
       "<div>\n",
       "<style scoped>\n",
       "    .dataframe tbody tr th:only-of-type {\n",
       "        vertical-align: middle;\n",
       "    }\n",
       "\n",
       "    .dataframe tbody tr th {\n",
       "        vertical-align: top;\n",
       "    }\n",
       "\n",
       "    .dataframe thead th {\n",
       "        text-align: right;\n",
       "    }\n",
       "</style>\n",
       "<table border=\"1\" class=\"dataframe\">\n",
       "  <thead>\n",
       "    <tr style=\"text-align: right;\">\n",
       "      <th></th>\n",
       "      <th>Precision</th>\n",
       "      <th>Recall</th>\n",
       "      <th>F Score</th>\n",
       "      <th>Support</th>\n",
       "    </tr>\n",
       "  </thead>\n",
       "  <tbody>\n",
       "    <tr>\n",
       "      <th>3</th>\n",
       "      <td>0.000000</td>\n",
       "      <td>0.000000</td>\n",
       "      <td>0.000000</td>\n",
       "      <td>2</td>\n",
       "    </tr>\n",
       "    <tr>\n",
       "      <th>4</th>\n",
       "      <td>0.000000</td>\n",
       "      <td>0.000000</td>\n",
       "      <td>0.000000</td>\n",
       "      <td>11</td>\n",
       "    </tr>\n",
       "    <tr>\n",
       "      <th>5</th>\n",
       "      <td>0.734694</td>\n",
       "      <td>0.794118</td>\n",
       "      <td>0.763251</td>\n",
       "      <td>136</td>\n",
       "    </tr>\n",
       "    <tr>\n",
       "      <th>6</th>\n",
       "      <td>0.647887</td>\n",
       "      <td>0.718750</td>\n",
       "      <td>0.681481</td>\n",
       "      <td>128</td>\n",
       "    </tr>\n",
       "    <tr>\n",
       "      <th>7</th>\n",
       "      <td>0.700000</td>\n",
       "      <td>0.525000</td>\n",
       "      <td>0.600000</td>\n",
       "      <td>40</td>\n",
       "    </tr>\n",
       "    <tr>\n",
       "      <th>8</th>\n",
       "      <td>1.000000</td>\n",
       "      <td>0.333333</td>\n",
       "      <td>0.500000</td>\n",
       "      <td>3</td>\n",
       "    </tr>\n",
       "  </tbody>\n",
       "</table>\n",
       "</div>"
      ],
      "text/plain": [
       "   Precision    Recall   F Score  Support\n",
       "3   0.000000  0.000000  0.000000        2\n",
       "4   0.000000  0.000000  0.000000       11\n",
       "5   0.734694  0.794118  0.763251      136\n",
       "6   0.647887  0.718750  0.681481      128\n",
       "7   0.700000  0.525000  0.600000       40\n",
       "8   1.000000  0.333333  0.500000        3"
      ]
     },
     "execution_count": 53,
     "metadata": {},
     "output_type": "execute_result"
    },
    {
     "data": {
      "image/png": "[encoded data removed]",
      "text/plain": [
       "<matplotlib.figure.Figure at 0x9626c4cd68>"
      ]
     },
     "metadata": {},
     "output_type": "display_data"
    }
   ],
   "source": [
    "from sklearn.metrics import confusion_matrix\n",
    "from sklearn.metrics import precision_recall_fscore_support as score\n",
    "from sklearn.metrics import r2_score\n",
    "\n",
    "y_pred_kn = 0\n",
    "y_pred_kn = CV_kn.predict(X_test)\n",
    "print(\"Actual Qualities: \")\n",
    "y_test.values[0:10]\n",
    "print(\"Predicted Qualities: \")\n",
    "y_pred_kn[0:10]\n",
    "print(\"Forced Classification: \")\n",
    "y_pred_kn_int = np.rint(y_pred_kn)\n",
    "y_pred_kn_int[0:10]\n",
    "\n",
    "print(\"R2 score: \", r2_score(y_test, y_pred_kn))\n",
    "print(\"Forced Classification Scores:\")\n",
    "\n",
    "cm = confusion_matrix(y_test, y_pred_kn_int)\n",
    "     \n",
    "df_cm = pd.DataFrame(cm, range(3,9), range(3,9))\n",
    "plt.figure(figsize = (10,7))\n",
    "\n",
    "\n",
    "sns.heatmap(df_cm, annot=True, fmt='d', square=True)\n",
    "plt.xlabel('Predicted')\n",
    "plt.ylabel('Actual')\n",
    "\n",
    "\n",
    "precision, recall, fscore, support = score(y_test, y_pred_kn_int)\n",
    "\n",
    "df_precision = pd.DataFrame(precision, index=range(3, 9), columns=[\"Precision\"])\n",
    "df_recall = pd.DataFrame(recall, index=range(3, 9), columns=[\"Recall\"])\n",
    "df_fscore = pd.DataFrame(fscore, index=range(3, 9), columns=[\"F Score\"])\n",
    "df_support = pd.DataFrame(support, index=range(3, 9), columns=[\"Support\"])\n",
    "\n",
    "score = pd.concat([df_precision, df_recall, df_fscore, df_support], axis = 1)\n",
    "score"
   ]
  },
  {
   "cell_type": "markdown",
   "metadata": {},
   "source": [
    "Let us try a classifier, just for fun:\n",
    "\n",
    "# Random Forest Classifier\n",
    "## Cross Validation with Gridsearch"
   ]
  },
  {
   "cell_type": "code",
   "execution_count": 54,
   "metadata": {},
   "outputs": [
    {
     "data": {
      "text/plain": [
       "GridSearchCV(cv=3, error_score='raise',\n",
       "       estimator=Pipeline(memory=None,\n",
       "     steps=[('standardscaler', StandardScaler(copy=True, with_mean=True, with_std=True)), ('randomforestclassifier', RandomForestClassifier(bootstrap=True, class_weight=None, criterion='gini',\n",
       "            max_depth=None, max_features='auto', max_leaf_nodes=None,\n",
       "            min_impurity_decrease=0.0, min...n_jobs=1,\n",
       "            oob_score=False, random_state=None, verbose=0,\n",
       "            warm_start=False))]),\n",
       "       fit_params=None, iid=True, n_jobs=1,\n",
       "       param_grid={'randomforestclassifier__max_features': ['auto', 'sqrt', 'log2'], 'randomforestclassifier__max_depth': [3000, 3500, 4000], 'randomforestclassifier__n_estimators': [200, 300, 500]},\n",
       "       pre_dispatch='2*n_jobs', refit=True, return_train_score='warn',\n",
       "       scoring=None, verbose=0)"
      ]
     },
     "execution_count": 54,
     "metadata": {},
     "output_type": "execute_result"
    },
    {
     "name": "stdout",
     "output_type": "stream",
     "text": [
      "Best Parameters =  {'randomforestclassifier__max_depth': 4000, 'randomforestclassifier__max_features': 'log2', 'randomforestclassifier__n_estimators': 500}\n"
     ]
    }
   ],
   "source": [
    "from sklearn.ensemble import RandomForestClassifier\n",
    "\n",
    "pipeline_rfc = make_pipeline(\n",
    "    preprocessing.StandardScaler(), \n",
    "    RandomForestClassifier()\n",
    ")\n",
    "\n",
    "hyperparameters_rfc = { \n",
    "    'randomforestclassifier__max_features' : ['auto', 'sqrt', 'log2'],\n",
    "    'randomforestclassifier__max_depth': [3000, 3500, 4000],\n",
    "    'randomforestclassifier__n_estimators': [200, 300, 500]\n",
    "}\n",
    "\n",
    "CV_rfc = GridSearchCV(pipeline_rfc, hyperparameters_rfc, cv=3)\n",
    "\n",
    "CV_rfc.fit(X_train, y_train)\n",
    "print(\"Best Parameters = \", CV_rfc.best_params_)"
   ]
  },
  {
   "cell_type": "markdown",
   "metadata": {},
   "source": [
    "## Grid Search Results:\n",
    "### Run 1: \n",
    "```python\n",
    "hyperparameters_rfc = { \n",
    "    'randomforestclassifier__max_features' : ['auto', 'sqrt', 'log2'],\n",
    "    'randomforestclassifier__max_depth': [3000, 5000, None],\n",
    "    'randomforestclassifier__n_estimators': [200, 500, 1000]\n",
    "}\n",
    "\n",
    "Best Parameters =  {\n",
    "    'randomforestclassifier__max_depth': 3000, \n",
    "    'randomforestclassifier__max_features': 'sqrt', \n",
    "    'randomforestclassifier__n_estimators': 500\n",
    "}\n",
    "\n",
    "\tPrecision\tRecall\tF Score\tSupport\n",
    "3\t0.000000\t0.000000\t0.000000\t2\n",
    "4\t0.000000\t0.000000\t0.000000\t11\n",
    "5\t0.746667\t0.823529\t0.783217\t136\n",
    "6\t0.691729\t0.718750\t0.704981\t128\n",
    "7\t0.657143\t0.575000\t0.613333\t40\n",
    "8\t1.000000\t0.333333\t0.500000\t3\n",
    "```\n",
    "\n",
    "### Run 2:\n",
    "```python\n",
    "hyperparameters_rfc = { \n",
    "    'randomforestclassifier__max_features' : ['auto', 'sqrt', 'log2'],\n",
    "    'randomforestclassifier__max_depth': [3000, 3500, 4000],\n",
    "    'randomforestclassifier__n_estimators': [200, 300, 500]\n",
    "}\n",
    "\n",
    "Best Parameters =  {\n",
    "    'randomforestclassifier__max_depth': 4000, \n",
    "    'randomforestclassifier__max_features': 'log2', \n",
    "    'randomforestclassifier__n_estimators': 500\n",
    "}\n",
    "\n",
    "\tPrecision\tRecall\tF Score\tSupport\n",
    "3\t0.000000\t0.000000\t0.000000\t2\n",
    "4\t0.000000\t0.000000\t0.000000\t11\n",
    "5\t0.741722\t0.823529\t0.780488\t136\n",
    "6\t0.691729\t0.718750\t0.704981\t128\n",
    "7\t0.647059\t0.550000\t0.594595\t40\n",
    "8\t1.000000\t0.333333\t0.500000\t3\n",
    "```\n",
    "### Run 3:\n",
    "```python\n",
    "hyperparameters_rfc = { \n",
    "    'randomforestclassifier__max_features' : ['auto', 'sqrt', 'log2'],\n",
    "    'randomforestclassifier__max_depth': [1500, 3000, None],\n",
    "    'randomforestclassifier__n_estimators': [100, 150, 200]\n",
    "}\n",
    "\n",
    "Best Parameters =  {\n",
    "    'randomforestclassifier__max_depth': 3000, \n",
    "    'randomforestclassifier__max_features': 'sqrt', \n",
    "    'randomforestclassifier__n_estimators': 200\n",
    "}\n",
    "\n",
    "Precision\tRecall\tF Score\tSupport\n",
    "3\t0.000000\t0.000000\t0.000000\t2\n",
    "4\t0.000000\t0.000000\t0.000000\t11\n",
    "5\t0.740000\t0.816176\t0.776224\t136\n",
    "6\t0.696970\t0.718750\t0.707692\t128\n",
    "7\t0.666667\t0.600000\t0.631579\t40\n",
    "8\t1.000000\t0.333333\t0.500000\t3\n",
    "```\n",
    "\n",
    "It looks like performance is maxed out already.\n",
    "\n",
    "## Final Model:"
   ]
  },
  {
   "cell_type": "code",
   "execution_count": 55,
   "metadata": {},
   "outputs": [
    {
     "data": {
      "text/plain": [
       "RandomForestClassifier(bootstrap=True, class_weight=None, criterion='gini',\n",
       "            max_depth=3000, max_features='sqrt', max_leaf_nodes=None,\n",
       "            min_impurity_decrease=0.0, min_impurity_split=None,\n",
       "            min_samples_leaf=1, min_samples_split=2,\n",
       "            min_weight_fraction_leaf=0.0, n_estimators=200, n_jobs=1,\n",
       "            oob_score=False, random_state=None, verbose=0,\n",
       "            warm_start=False)"
      ]
     },
     "execution_count": 55,
     "metadata": {},
     "output_type": "execute_result"
    }
   ],
   "source": [
    "CV_rfc = RandomForestClassifier(\n",
    "    max_depth = 3000, \n",
    "    max_features = 'sqrt', \n",
    "    n_estimators = 200\n",
    ")\n",
    "CV_rfc.fit(X_train, y_train)"
   ]
  },
  {
   "cell_type": "markdown",
   "metadata": {},
   "source": [
    "## Performance\n",
    "#### Confusion Matrix:"
   ]
  },
  {
   "cell_type": "code",
   "execution_count": 56,
   "metadata": {},
   "outputs": [
    {
     "name": "stdout",
     "output_type": "stream",
     "text": [
      "Actual Qualities: \n"
     ]
    },
    {
     "data": {
      "text/plain": [
       "array([6, 5, 6, 5, 6, 6, 6, 6, 7, 7], dtype=int64)"
      ]
     },
     "execution_count": 56,
     "metadata": {},
     "output_type": "execute_result"
    },
    {
     "name": "stdout",
     "output_type": "stream",
     "text": [
      "Predicted Qualities: \n"
     ]
    },
    {
     "data": {
      "text/plain": [
       "array([5, 5, 6, 5, 6, 6, 6, 6, 7, 7], dtype=int64)"
      ]
     },
     "execution_count": 56,
     "metadata": {},
     "output_type": "execute_result"
    },
    {
     "name": "stdout",
     "output_type": "stream",
     "text": [
      "Classification Scores:\n"
     ]
    },
    {
     "data": {
      "text/plain": [
       "<matplotlib.figure.Figure at 0x9627105d30>"
      ]
     },
     "execution_count": 56,
     "metadata": {},
     "output_type": "execute_result"
    },
    {
     "data": {
      "text/plain": [
       "<matplotlib.axes._subplots.AxesSubplot at 0x9627105550>"
      ]
     },
     "execution_count": 56,
     "metadata": {},
     "output_type": "execute_result"
    },
    {
     "data": {
      "text/plain": [
       "Text(0.5,42,'Predicted')"
      ]
     },
     "execution_count": 56,
     "metadata": {},
     "output_type": "execute_result"
    },
    {
     "data": {
      "text/plain": [
       "Text(134.88,0.5,'Actual')"
      ]
     },
     "execution_count": 56,
     "metadata": {},
     "output_type": "execute_result"
    },
    {
     "data": {
      "text/html": [
       "<div>\n",
       "<style scoped>\n",
       "    .dataframe tbody tr th:only-of-type {\n",
       "        vertical-align: middle;\n",
       "    }\n",
       "\n",
       "    .dataframe tbody tr th {\n",
       "        vertical-align: top;\n",
       "    }\n",
       "\n",
       "    .dataframe thead th {\n",
       "        text-align: right;\n",
       "    }\n",
       "</style>\n",
       "<table border=\"1\" class=\"dataframe\">\n",
       "  <thead>\n",
       "    <tr style=\"text-align: right;\">\n",
       "      <th></th>\n",
       "      <th>Precision</th>\n",
       "      <th>Recall</th>\n",
       "      <th>F Score</th>\n",
       "      <th>Support</th>\n",
       "    </tr>\n",
       "  </thead>\n",
       "  <tbody>\n",
       "    <tr>\n",
       "      <th>3</th>\n",
       "      <td>0.000000</td>\n",
       "      <td>0.000000</td>\n",
       "      <td>0.000000</td>\n",
       "      <td>2</td>\n",
       "    </tr>\n",
       "    <tr>\n",
       "      <th>4</th>\n",
       "      <td>0.000000</td>\n",
       "      <td>0.000000</td>\n",
       "      <td>0.000000</td>\n",
       "      <td>11</td>\n",
       "    </tr>\n",
       "    <tr>\n",
       "      <th>5</th>\n",
       "      <td>0.733333</td>\n",
       "      <td>0.808824</td>\n",
       "      <td>0.769231</td>\n",
       "      <td>136</td>\n",
       "    </tr>\n",
       "    <tr>\n",
       "      <th>6</th>\n",
       "      <td>0.686567</td>\n",
       "      <td>0.718750</td>\n",
       "      <td>0.702290</td>\n",
       "      <td>128</td>\n",
       "    </tr>\n",
       "    <tr>\n",
       "      <th>7</th>\n",
       "      <td>0.676471</td>\n",
       "      <td>0.575000</td>\n",
       "      <td>0.621622</td>\n",
       "      <td>40</td>\n",
       "    </tr>\n",
       "    <tr>\n",
       "      <th>8</th>\n",
       "      <td>1.000000</td>\n",
       "      <td>0.333333</td>\n",
       "      <td>0.500000</td>\n",
       "      <td>3</td>\n",
       "    </tr>\n",
       "  </tbody>\n",
       "</table>\n",
       "</div>"
      ],
      "text/plain": [
       "   Precision    Recall   F Score  Support\n",
       "3   0.000000  0.000000  0.000000        2\n",
       "4   0.000000  0.000000  0.000000       11\n",
       "5   0.733333  0.808824  0.769231      136\n",
       "6   0.686567  0.718750  0.702290      128\n",
       "7   0.676471  0.575000  0.621622       40\n",
       "8   1.000000  0.333333  0.500000        3"
      ]
     },
     "execution_count": 56,
     "metadata": {},
     "output_type": "execute_result"
    },
    {
     "data": {
      "image/png": "[encoded data removed]",
      "text/plain": [
       "<matplotlib.figure.Figure at 0x9627105d30>"
      ]
     },
     "metadata": {},
     "output_type": "display_data"
    }
   ],
   "source": [
    "from sklearn.metrics import confusion_matrix\n",
    "from sklearn.metrics import precision_recall_fscore_support as score\n",
    "\n",
    "y_pred_rfc = 0\n",
    "y_pred_rfc = CV_rfc.predict(X_test)\n",
    "print(\"Actual Qualities: \")\n",
    "y_test.values[0:10]\n",
    "print(\"Predicted Qualities: \")\n",
    "y_pred_rfc[0:10]\n",
    "\n",
    "print(\"Classification Scores:\")\n",
    "\n",
    "cm = confusion_matrix(y_test, y_pred_rfc)\n",
    "     \n",
    "df_cm = pd.DataFrame(cm, range(3,9), range(3,9))\n",
    "plt.figure(figsize = (10,7))\n",
    "sns.heatmap(df_cm, annot=True, fmt='d', square=True)\n",
    "plt.xlabel('Predicted')\n",
    "plt.ylabel('Actual')\n",
    "\n",
    "\n",
    "precision, recall, fscore, support = score(y_test, y_pred_rfc);\n",
    "\n",
    "df_precision = pd.DataFrame(precision, index=range(3, 9), columns=[\"Precision\"])\n",
    "df_recall = pd.DataFrame(recall, index=range(3, 9), columns=[\"Recall\"])\n",
    "df_fscore = pd.DataFrame(fscore, index=range(3, 9), columns=[\"F Score\"])\n",
    "df_support = pd.DataFrame(support, index=range(3, 9), columns=[\"Support\"])\n",
    "\n",
    "score = pd.concat([df_precision, df_recall, df_fscore, df_support], axis = 1)\n",
    "score"
   ]
  },
  {
   "cell_type": "markdown",
   "metadata": {},
   "source": [
    "# A Comparison Between Random Forest Regressor and Classifier\n",
    "```python\n",
    "Classifier:\n",
    "     Precision   Recall      F Score     Support\n",
    "3    0.000000    0.000000    0.000000    2\n",
    "4    0.000000    0.000000    0.000000    11\n",
    "5    0.740000    0.816176    0.776224    136\n",
    "6    0.696970    0.718750    0.707692    128\n",
    "7    0.666667    0.600000    0.631579    40\n",
    "8    1.000000    0.333333    0.500000    3\n",
    "\n",
    "Regressor:\n",
    "\n",
    "    Precision\tRecall\t    F Score\t    Support\n",
    "3\t0.000000\t0.000000\t0.000000\t2\n",
    "4\t0.000000\t0.000000\t0.000000\t11\n",
    "5\t0.726667\t0.801471\t0.762238\t136\n",
    "6\t0.678322\t0.757812\t0.715867\t128\n",
    "7\t0.740741\t0.500000\t0.597015\t40\n",
    "8\t0.000000\t0.000000\t0.000000\t3\n",
    "```\n",
    "\n",
    "Very surprisingly, the classifier performs better than the regressor on our dataset, which is weird considering that the classifier treats falsely predicting a quality of 4 as bad/good as falsely predicting a quality of 8 when the actual quality is 3.\n",
    "\n",
    "I believe that if we had more and higher quality data, the regressor will learn to perform better than the classifier as it takes in the fact that predicting a 4 for a 3 is better than predicting 8 for a 3."
   ]
  },
  {
   "cell_type": "markdown",
   "metadata": {},
   "source": [
    "After comparing precision and recall scores of different models, we agree upon a best model\n",
    "\n",
    "# Best Model:"
   ]
  },
  {
   "cell_type": "code",
   "execution_count": 57,
   "metadata": {},
   "outputs": [
    {
     "data": {
      "text/plain": [
       "Pipeline(memory=None,\n",
       "     steps=[('standardscaler', StandardScaler(copy=True, with_mean=True, with_std=True)), ('randomforestregressor', RandomForestRegressor(bootstrap=True, criterion='mse', max_depth=None,\n",
       "           max_features='sqrt', max_leaf_nodes=None,\n",
       "           min_impurity_decrease=0.0, min_impurity_split=None,\n",
       "           min_samples_leaf=1, min_samples_split=2,\n",
       "           min_weight_fraction_leaf=0.0, n_estimators=1500, n_jobs=1,\n",
       "           oob_score=False, random_state=None, verbose=0, warm_start=False))])"
      ]
     },
     "execution_count": 57,
     "metadata": {},
     "output_type": "execute_result"
    }
   ],
   "source": [
    "rfr = make_pipeline(\n",
    "    preprocessing.StandardScaler(),\n",
    "    RandomForestRegressor(\n",
    "        max_features = 'sqrt',\n",
    "        n_estimators = 1500,\n",
    "        min_samples_split = 2\n",
    "    )\n",
    ")\n",
    "\n",
    "rfr.fit(X_train, y_train)"
   ]
  },
  {
   "cell_type": "markdown",
   "metadata": {},
   "source": [
    "Its performance:\n",
    "```python\n",
    "R2 score:  0.5376639543690431\n",
    "\n",
    "    Precision\tRecall\t F Score\tSupport\n",
    "3\t0.000000\t0.000000\t0.000000\t2\n",
    "4\t0.000000\t0.000000\t0.000000\t11\n",
    "5\t0.726667\t0.801471\t0.762238\t136\n",
    "6\t0.678322\t0.757812\t0.715867\t128\n",
    "7\t0.740741\t0.500000\t0.597015\t40\n",
    "8\t0.000000\t0.000000\t0.000000\t3\n",
    "```"
   ]
  },
  {
   "cell_type": "markdown",
   "metadata": {},
   "source": [
    "# Saving the Trained Model"
   ]
  },
  {
   "cell_type": "code",
   "execution_count": 58,
   "metadata": {},
   "outputs": [
    {
     "data": {
      "text/plain": [
       "['rf_regressor.pkl']"
      ]
     },
     "execution_count": 58,
     "metadata": {},
     "output_type": "execute_result"
    }
   ],
   "source": [
    "joblib.dump(rfr, 'rf_regressor.pkl')\n",
    "# To load: rfr2 = joblib.load('rf_regressor.pkl')"
   ]
  },
  {
   "cell_type": "markdown",
   "metadata": {},
   "source": [
    "# Conclusion\n",
    "\n",
    "Although the data collected was not very good, the features didn't correlate much at all with the quality. However, we were able to achieve satisfactory results with all models, most notibly the Random Forest Regressor with a high recall of 0.8 on the most frequent quality: 5. \n",
    "\n",
    "Due to the nature of multiclass classification, a ROC curve was not used to evaluate the models. Rather, we identified the best model to use by inspecting the precision, recall and f scores. \n",
    "\n",
    "That concludes this notebook, thanks for reading"
   ]
  }
 ],
 "metadata": {
  "kernelspec": {
   "display_name": "Python 3",
   "language": "python",
   "name": "python3"
  },
  "language_info": {
   "codemirror_mode": {
    "name": "ipython",
    "version": 3
   },
   "file_extension": ".py",
   "mimetype": "text/x-python",
   "name": "python",
   "nbconvert_exporter": "python",
   "pygments_lexer": "ipython3",
   "version": "3.6.4"
  }
 },
 "nbformat": 4,
 "nbformat_minor": 2
}
